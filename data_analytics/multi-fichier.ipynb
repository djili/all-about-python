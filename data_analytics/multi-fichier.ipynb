{
 "cells": [
  {
   "cell_type": "code",
   "execution_count": 1,
   "id": "bec6bb70",
   "metadata": {},
   "outputs": [],
   "source": [
    "import pandas as pd\n",
    "from pathlib import Path"
   ]
  },
  {
   "cell_type": "code",
   "execution_count": 5,
   "id": "90b31621",
   "metadata": {},
   "outputs": [],
   "source": [
    "def load_csv_from_folder(folder_path):\n",
    "    \"\"\"Charge tous les fichiers CSV d'un dossier en DataFrames pandas\"\"\"\n",
    "    csv_files = {}\n",
    "    folder = Path(folder_path)\n",
    "    \n",
    "    for csv_file in folder.glob('*.csv'):\n",
    "        try:\n",
    "            csv_files[csv_file.stem] = pd.read_csv(csv_file, delimiter=\";\", skiprows=10, parse_dates=['Time period'])\n",
    "        except Exception as e:\n",
    "            print(f\"Erreur avec {csv_file.name}: {e}\")\n",
    "            \n",
    "    return csv_files"
   ]
  },
  {
   "cell_type": "code",
   "execution_count": 6,
   "id": "c40af049",
   "metadata": {},
   "outputs": [
    {
     "name": "stderr",
     "output_type": "stream",
     "text": [
      "C:\\Users\\lenovo\\AppData\\Local\\Temp\\ipykernel_9712\\1644696511.py:8: UserWarning: Could not infer format, so each element will be parsed individually, falling back to `dateutil`. To ensure parsing is consistent and as-expected, please specify a format.\n",
      "  csv_files[csv_file.stem] = pd.read_csv(csv_file, delimiter=\";\", skiprows=10, parse_dates=['Time period'])\n"
     ]
    }
   ],
   "source": [
    "folder_path = \"../data/\"  # À modifier selon votre dossier\n",
    "dfs = load_csv_from_folder(folder_path)\n"
   ]
  },
  {
   "cell_type": "code",
   "execution_count": 7,
   "id": "b0784acf",
   "metadata": {},
   "outputs": [
    {
     "name": "stdout",
     "output_type": "stream",
     "text": [
      "\n",
      "Fichier: Energy-balance-Day-Transfo-1A-2025-05-02\n",
      "  Time period Direct consumption [kW] Grid-supplied power [kW]  \\\n",
      "0    12.05 AM                       0                   188,57   \n",
      "1    12.10 AM                       0                   184,42   \n",
      "2    12.15 AM                       0                   190,01   \n",
      "3    12.20 AM                       0                   198,44   \n",
      "4    12.25 AM                       0                   184,67   \n",
      "\n",
      "   Grid feed-in [kW] Total consumption [kW] Total generation [kW]  \n",
      "0                  0                 188,57                     0  \n",
      "1                  0                 184,42                     0  \n",
      "2                  0                 190,01                     0  \n",
      "3                  0                 198,44                     0  \n",
      "4                  0                 184,67                     0  \n"
     ]
    }
   ],
   "source": [
    "# Afficher les DataFrames chargés\n",
    "for name, df in dfs.items():\n",
    "    print(f\"\\nFichier: {name}\")\n",
    "    print(df.head())"
   ]
  }
 ],
 "metadata": {
  "kernelspec": {
   "display_name": "python-advance-env",
   "language": "python",
   "name": "python3"
  },
  "language_info": {
   "codemirror_mode": {
    "name": "ipython",
    "version": 3
   },
   "file_extension": ".py",
   "mimetype": "text/x-python",
   "name": "python",
   "nbconvert_exporter": "python",
   "pygments_lexer": "ipython3",
   "version": "3.10.18"
  }
 },
 "nbformat": 4,
 "nbformat_minor": 5
}
