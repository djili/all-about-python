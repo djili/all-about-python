{
 "cells": [
  {
   "cell_type": "code",
   "execution_count": null,
   "id": "bec6bb70",
   "metadata": {},
   "outputs": [],
   "source": [
    "import pandas as pd\n",
    "from pathlib import Path"
   ]
  },
  {
   "cell_type": "code",
   "execution_count": null,
   "id": "90b31621",
   "metadata": {},
   "outputs": [],
   "source": [
    "def load_csv_from_folder(folder_path):\n",
    "    \"\"\"Charge tous les fichiers CSV d'un dossier en DataFrames pandas\"\"\"\n",
    "    csv_files = {}\n",
    "    folder = Path(folder_path)\n",
    "    \n",
    "    for csv_file in folder.glob('*.csv'):\n",
    "        try:\n",
    "            csv_files[csv_file.stem] = pd.read_csv(csv_file)\n",
    "        except Exception as e:\n",
    "            print(f\"Erreur avec {csv_file.name}: {e}\")\n",
    "            \n",
    "    return csv_files"
   ]
  },
  {
   "cell_type": "code",
   "execution_count": null,
   "id": "c40af049",
   "metadata": {},
   "outputs": [],
   "source": [
    "folder_path = \"chemin/vers/votre/dossier\"  # À modifier selon votre dossier\n",
    "dfs = load_csv_from_folder(folder_path)\n"
   ]
  },
  {
   "cell_type": "code",
   "execution_count": null,
   "id": "b0784acf",
   "metadata": {},
   "outputs": [],
   "source": [
    "# Afficher les DataFrames chargés\n",
    "for name, df in dfs.items():\n",
    "    print(f\"\\nFichier: {name}\")\n",
    "    print(df.head())"
   ]
  }
 ],
 "metadata": {
  "language_info": {
   "name": "python"
  }
 },
 "nbformat": 4,
 "nbformat_minor": 5
}
