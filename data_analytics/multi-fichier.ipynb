{
 "cells": [
  {
   "cell_type": "code",
   "execution_count": 22,
   "id": "bec6bb70",
   "metadata": {},
   "outputs": [],
   "source": [
    "import pandas as pd\n",
    "from pathlib import Path"
   ]
  },
  {
   "cell_type": "code",
   "execution_count": null,
   "id": "90b31621",
   "metadata": {},
   "outputs": [],
   "source": [
    "def load_csv_from_folder(folder_path):\n",
    "    \"\"\"Charge tous les fichiers CSV d'un dossier en DataFrames pandas\"\"\"\n",
    "    csv_files = {}\n",
    "    folder = Path(folder_path)\n",
    "    \n",
    "    for csv_file in folder.glob('*.csv'):\n",
    "        print(csv_file)\n",
    "        csv_files[csv_file.stem] = pd.read_csv(csv_file, delimiter=\";\", skiprows=45, parse_dates=['Timestamp'])\n",
    "            \n",
    "    return csv_files"
   ]
  },
  {
   "cell_type": "code",
   "execution_count": 24,
   "id": "ae33b6ae",
   "metadata": {},
   "outputs": [
    {
     "name": "stdout",
     "output_type": "stream",
     "text": [
      "..\\data\\chemistry\\84_amb1_2.5.csv\n",
      "..\\data\\chemistry\\84_amb2_2.1.csv\n"
     ]
    }
   ],
   "source": [
    "folder_path = \"../data/chemistry\"  # À modifier selon votre dossier\n",
    "dfs = load_csv_from_folder(folder_path)"
   ]
  },
  {
   "cell_type": "code",
   "execution_count": 25,
   "id": "c40af049",
   "metadata": {},
   "outputs": [
    {
     "name": "stdout",
     "output_type": "stream",
     "text": [
      "..\\data\\Energy-balance-Day-Transfo-1A-2025-05-02.csv\n"
     ]
    }
   ],
   "source": [
    "folder_path = \"../data/\"  # À modifier selon votre dossier\n",
    "dfs = load_csv_from_folder(folder_path)\n"
   ]
  },
  {
   "cell_type": "code",
   "execution_count": 26,
   "id": "02c80568",
   "metadata": {},
   "outputs": [
    {
     "data": {
      "text/plain": [
       "dict_items"
      ]
     },
     "execution_count": 26,
     "metadata": {},
     "output_type": "execute_result"
    }
   ],
   "source": [
    "type(dfs.items())\n"
   ]
  },
  {
   "cell_type": "code",
   "execution_count": 27,
   "id": "b0784acf",
   "metadata": {},
   "outputs": [],
   "source": [
    "# Afficher les DataFrames chargés\n",
    "for name, df in dfs.items():\n",
    "    print(f\"\\nFichier: {name}\")\n",
    "    print(df.head())"
   ]
  },
  {
   "cell_type": "code",
   "execution_count": null,
   "id": "59248ae9",
   "metadata": {},
   "outputs": [],
   "source": []
  }
 ],
 "metadata": {
  "kernelspec": {
   "display_name": "python-advance-env",
   "language": "python",
   "name": "python3"
  },
  "language_info": {
   "codemirror_mode": {
    "name": "ipython",
    "version": 3
   },
   "file_extension": ".py",
   "mimetype": "text/x-python",
   "name": "python",
   "nbconvert_exporter": "python",
   "pygments_lexer": "ipython3",
   "version": "3.10.18"
  }
 },
 "nbformat": 4,
 "nbformat_minor": 5
}
