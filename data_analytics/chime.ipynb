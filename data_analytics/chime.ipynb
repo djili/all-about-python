{
 "cells": [
  {
   "cell_type": "code",
   "execution_count": 121,
   "id": "e51f1bed",
   "metadata": {},
   "outputs": [],
   "source": [
    "import pandas as pd\n"
   ]
  },
  {
   "cell_type": "code",
   "execution_count": 122,
   "id": "162317a7",
   "metadata": {},
   "outputs": [
    {
     "name": "stderr",
     "output_type": "stream",
     "text": [
      "C:\\Users\\lenovo\\AppData\\Local\\Temp\\ipykernel_13928\\3428632325.py:1: UserWarning: Could not infer format, so each element will be parsed individually, falling back to `dateutil`. To ensure parsing is consistent and as-expected, please specify a format.\n",
      "  dataframe = pd.read_csv(\"../data/84_amb2_2.1.csv\", delimiter=\";\", skiprows=45, parse_dates=['Timestamp'])\n"
     ]
    },
    {
     "data": {
      "text/html": [
       "<div>\n",
       "<style scoped>\n",
       "    .dataframe tbody tr th:only-of-type {\n",
       "        vertical-align: middle;\n",
       "    }\n",
       "\n",
       "    .dataframe tbody tr th {\n",
       "        vertical-align: top;\n",
       "    }\n",
       "\n",
       "    .dataframe thead th {\n",
       "        text-align: right;\n",
       "    }\n",
       "</style>\n",
       "<table border=\"1\" class=\"dataframe\">\n",
       "  <thead>\n",
       "    <tr style=\"text-align: right;\">\n",
       "      <th></th>\n",
       "      <th>id</th>\n",
       "      <th>Timestamp</th>\n",
       "      <th>Source Value</th>\n",
       "      <th>Reading</th>\n",
       "    </tr>\n",
       "  </thead>\n",
       "  <tbody>\n",
       "    <tr>\n",
       "      <th>0</th>\n",
       "      <td>id</td>\n",
       "      <td>(seconds)</td>\n",
       "      <td>(Volts)</td>\n",
       "      <td>(Amps)</td>\n",
       "    </tr>\n",
       "    <tr>\n",
       "      <th>1</th>\n",
       "      <td>1</td>\n",
       "      <td>0.0</td>\n",
       "      <td>-0.7</td>\n",
       "      <td>-1.574755E-5</td>\n",
       "    </tr>\n",
       "    <tr>\n",
       "      <th>2</th>\n",
       "      <td>2</td>\n",
       "      <td>0.499888</td>\n",
       "      <td>-0.6858586</td>\n",
       "      <td>-1.404285E-5</td>\n",
       "    </tr>\n",
       "    <tr>\n",
       "      <th>3</th>\n",
       "      <td>3</td>\n",
       "      <td>0.999888</td>\n",
       "      <td>-0.6717172</td>\n",
       "      <td>-1.379252E-5</td>\n",
       "    </tr>\n",
       "    <tr>\n",
       "      <th>4</th>\n",
       "      <td>4</td>\n",
       "      <td>1.499888</td>\n",
       "      <td>-0.6575758</td>\n",
       "      <td>-1.322031E-5</td>\n",
       "    </tr>\n",
       "    <tr>\n",
       "      <th>...</th>\n",
       "      <td>...</td>\n",
       "      <td>...</td>\n",
       "      <td>...</td>\n",
       "      <td>...</td>\n",
       "    </tr>\n",
       "    <tr>\n",
       "      <th>96</th>\n",
       "      <td>96</td>\n",
       "      <td>47.49989</td>\n",
       "      <td>0.6434343</td>\n",
       "      <td>1.401901E-5</td>\n",
       "    </tr>\n",
       "    <tr>\n",
       "      <th>97</th>\n",
       "      <td>97</td>\n",
       "      <td>47.99989</td>\n",
       "      <td>0.6575758</td>\n",
       "      <td>1.437664E-5</td>\n",
       "    </tr>\n",
       "    <tr>\n",
       "      <th>98</th>\n",
       "      <td>98</td>\n",
       "      <td>48.49989</td>\n",
       "      <td>0.6717172</td>\n",
       "      <td>1.538992E-5</td>\n",
       "    </tr>\n",
       "    <tr>\n",
       "      <th>99</th>\n",
       "      <td>99</td>\n",
       "      <td>48.99989</td>\n",
       "      <td>0.6858586</td>\n",
       "      <td>1.517534E-5</td>\n",
       "    </tr>\n",
       "    <tr>\n",
       "      <th>100</th>\n",
       "      <td>100</td>\n",
       "      <td>49.49989</td>\n",
       "      <td>0.7</td>\n",
       "      <td>1.618862E-5</td>\n",
       "    </tr>\n",
       "  </tbody>\n",
       "</table>\n",
       "<p>101 rows × 4 columns</p>\n",
       "</div>"
      ],
      "text/plain": [
       "      id  Timestamp Source Value       Reading\n",
       "0     id  (seconds)      (Volts)        (Amps)\n",
       "1      1        0.0         -0.7  -1.574755E-5\n",
       "2      2   0.499888   -0.6858586  -1.404285E-5\n",
       "3      3   0.999888   -0.6717172  -1.379252E-5\n",
       "4      4   1.499888   -0.6575758  -1.322031E-5\n",
       "..   ...        ...          ...           ...\n",
       "96    96   47.49989    0.6434343   1.401901E-5\n",
       "97    97   47.99989    0.6575758   1.437664E-5\n",
       "98    98   48.49989    0.6717172   1.538992E-5\n",
       "99    99   48.99989    0.6858586   1.517534E-5\n",
       "100  100   49.49989          0.7   1.618862E-5\n",
       "\n",
       "[101 rows x 4 columns]"
      ]
     },
     "execution_count": 122,
     "metadata": {},
     "output_type": "execute_result"
    }
   ],
   "source": [
    "dataframe = pd.read_csv(\"../data/84_amb2_2.1.csv\", delimiter=\";\", skiprows=45, parse_dates=['Timestamp'])\n",
    "dataframe"
   ]
  },
  {
   "cell_type": "code",
   "execution_count": 123,
   "id": "0a53fb5d",
   "metadata": {},
   "outputs": [
    {
     "data": {
      "text/plain": [
       "0"
      ]
     },
     "execution_count": 123,
     "metadata": {},
     "output_type": "execute_result"
    }
   ],
   "source": [
    "dataframe.index[0]"
   ]
  },
  {
   "cell_type": "code",
   "execution_count": 124,
   "id": "37cf8216",
   "metadata": {},
   "outputs": [
    {
     "data": {
      "text/html": [
       "<div>\n",
       "<style scoped>\n",
       "    .dataframe tbody tr th:only-of-type {\n",
       "        vertical-align: middle;\n",
       "    }\n",
       "\n",
       "    .dataframe tbody tr th {\n",
       "        vertical-align: top;\n",
       "    }\n",
       "\n",
       "    .dataframe thead th {\n",
       "        text-align: right;\n",
       "    }\n",
       "</style>\n",
       "<table border=\"1\" class=\"dataframe\">\n",
       "  <thead>\n",
       "    <tr style=\"text-align: right;\">\n",
       "      <th></th>\n",
       "      <th>id</th>\n",
       "      <th>Timestamp</th>\n",
       "      <th>Source Value</th>\n",
       "      <th>Reading</th>\n",
       "    </tr>\n",
       "  </thead>\n",
       "  <tbody>\n",
       "    <tr>\n",
       "      <th>1</th>\n",
       "      <td>1</td>\n",
       "      <td>0.0</td>\n",
       "      <td>-0.7</td>\n",
       "      <td>-1.574755E-5</td>\n",
       "    </tr>\n",
       "    <tr>\n",
       "      <th>2</th>\n",
       "      <td>2</td>\n",
       "      <td>0.499888</td>\n",
       "      <td>-0.6858586</td>\n",
       "      <td>-1.404285E-5</td>\n",
       "    </tr>\n",
       "    <tr>\n",
       "      <th>3</th>\n",
       "      <td>3</td>\n",
       "      <td>0.999888</td>\n",
       "      <td>-0.6717172</td>\n",
       "      <td>-1.379252E-5</td>\n",
       "    </tr>\n",
       "    <tr>\n",
       "      <th>4</th>\n",
       "      <td>4</td>\n",
       "      <td>1.499888</td>\n",
       "      <td>-0.6575758</td>\n",
       "      <td>-1.322031E-5</td>\n",
       "    </tr>\n",
       "    <tr>\n",
       "      <th>5</th>\n",
       "      <td>5</td>\n",
       "      <td>1.999888</td>\n",
       "      <td>-0.6434343</td>\n",
       "      <td>-1.263618E-5</td>\n",
       "    </tr>\n",
       "    <tr>\n",
       "      <th>...</th>\n",
       "      <td>...</td>\n",
       "      <td>...</td>\n",
       "      <td>...</td>\n",
       "      <td>...</td>\n",
       "    </tr>\n",
       "    <tr>\n",
       "      <th>96</th>\n",
       "      <td>96</td>\n",
       "      <td>47.49989</td>\n",
       "      <td>0.6434343</td>\n",
       "      <td>1.401901E-5</td>\n",
       "    </tr>\n",
       "    <tr>\n",
       "      <th>97</th>\n",
       "      <td>97</td>\n",
       "      <td>47.99989</td>\n",
       "      <td>0.6575758</td>\n",
       "      <td>1.437664E-5</td>\n",
       "    </tr>\n",
       "    <tr>\n",
       "      <th>98</th>\n",
       "      <td>98</td>\n",
       "      <td>48.49989</td>\n",
       "      <td>0.6717172</td>\n",
       "      <td>1.538992E-5</td>\n",
       "    </tr>\n",
       "    <tr>\n",
       "      <th>99</th>\n",
       "      <td>99</td>\n",
       "      <td>48.99989</td>\n",
       "      <td>0.6858586</td>\n",
       "      <td>1.517534E-5</td>\n",
       "    </tr>\n",
       "    <tr>\n",
       "      <th>100</th>\n",
       "      <td>100</td>\n",
       "      <td>49.49989</td>\n",
       "      <td>0.7</td>\n",
       "      <td>1.618862E-5</td>\n",
       "    </tr>\n",
       "  </tbody>\n",
       "</table>\n",
       "<p>100 rows × 4 columns</p>\n",
       "</div>"
      ],
      "text/plain": [
       "      id Timestamp Source Value       Reading\n",
       "1      1       0.0         -0.7  -1.574755E-5\n",
       "2      2  0.499888   -0.6858586  -1.404285E-5\n",
       "3      3  0.999888   -0.6717172  -1.379252E-5\n",
       "4      4  1.499888   -0.6575758  -1.322031E-5\n",
       "5      5  1.999888   -0.6434343  -1.263618E-5\n",
       "..   ...       ...          ...           ...\n",
       "96    96  47.49989    0.6434343   1.401901E-5\n",
       "97    97  47.99989    0.6575758   1.437664E-5\n",
       "98    98  48.49989    0.6717172   1.538992E-5\n",
       "99    99  48.99989    0.6858586   1.517534E-5\n",
       "100  100  49.49989          0.7   1.618862E-5\n",
       "\n",
       "[100 rows x 4 columns]"
      ]
     },
     "execution_count": 124,
     "metadata": {},
     "output_type": "execute_result"
    }
   ],
   "source": [
    "dataframe = dataframe.drop(dataframe.index[0])\n",
    "dataframe"
   ]
  },
  {
   "cell_type": "code",
   "execution_count": null,
   "id": "e859c663",
   "metadata": {},
   "outputs": [
    {
     "data": {
      "text/html": [
       "<div>\n",
       "<style scoped>\n",
       "    .dataframe tbody tr th:only-of-type {\n",
       "        vertical-align: middle;\n",
       "    }\n",
       "\n",
       "    .dataframe tbody tr th {\n",
       "        vertical-align: top;\n",
       "    }\n",
       "\n",
       "    .dataframe thead th {\n",
       "        text-align: right;\n",
       "    }\n",
       "</style>\n",
       "<table border=\"1\" class=\"dataframe\">\n",
       "  <thead>\n",
       "    <tr style=\"text-align: right;\">\n",
       "      <th></th>\n",
       "      <th>id</th>\n",
       "      <th>Timestamp</th>\n",
       "      <th>Source Value</th>\n",
       "      <th>Reading</th>\n",
       "    </tr>\n",
       "  </thead>\n",
       "  <tbody>\n",
       "    <tr>\n",
       "      <th>1</th>\n",
       "      <td>1</td>\n",
       "      <td>0.0</td>\n",
       "      <td>-0.7</td>\n",
       "      <td>-1.574755E-5</td>\n",
       "    </tr>\n",
       "    <tr>\n",
       "      <th>2</th>\n",
       "      <td>2</td>\n",
       "      <td>0.499888</td>\n",
       "      <td>-0.6858586</td>\n",
       "      <td>-1.404285E-5</td>\n",
       "    </tr>\n",
       "    <tr>\n",
       "      <th>3</th>\n",
       "      <td>3</td>\n",
       "      <td>0.999888</td>\n",
       "      <td>-0.6717172</td>\n",
       "      <td>-1.379252E-5</td>\n",
       "    </tr>\n",
       "    <tr>\n",
       "      <th>4</th>\n",
       "      <td>4</td>\n",
       "      <td>1.499888</td>\n",
       "      <td>-0.6575758</td>\n",
       "      <td>-1.322031E-5</td>\n",
       "    </tr>\n",
       "    <tr>\n",
       "      <th>5</th>\n",
       "      <td>5</td>\n",
       "      <td>1.999888</td>\n",
       "      <td>-0.6434343</td>\n",
       "      <td>-1.263618E-5</td>\n",
       "    </tr>\n",
       "    <tr>\n",
       "      <th>...</th>\n",
       "      <td>...</td>\n",
       "      <td>...</td>\n",
       "      <td>...</td>\n",
       "      <td>...</td>\n",
       "    </tr>\n",
       "    <tr>\n",
       "      <th>96</th>\n",
       "      <td>96</td>\n",
       "      <td>47.49989</td>\n",
       "      <td>0.6434343</td>\n",
       "      <td>1.401901E-5</td>\n",
       "    </tr>\n",
       "    <tr>\n",
       "      <th>97</th>\n",
       "      <td>97</td>\n",
       "      <td>47.99989</td>\n",
       "      <td>0.6575758</td>\n",
       "      <td>1.437664E-5</td>\n",
       "    </tr>\n",
       "    <tr>\n",
       "      <th>98</th>\n",
       "      <td>98</td>\n",
       "      <td>48.49989</td>\n",
       "      <td>0.6717172</td>\n",
       "      <td>1.538992E-5</td>\n",
       "    </tr>\n",
       "    <tr>\n",
       "      <th>99</th>\n",
       "      <td>99</td>\n",
       "      <td>48.99989</td>\n",
       "      <td>0.6858586</td>\n",
       "      <td>1.517534E-5</td>\n",
       "    </tr>\n",
       "    <tr>\n",
       "      <th>100</th>\n",
       "      <td>100</td>\n",
       "      <td>49.49989</td>\n",
       "      <td>0.7</td>\n",
       "      <td>1.618862E-5</td>\n",
       "    </tr>\n",
       "  </tbody>\n",
       "</table>\n",
       "<p>100 rows × 4 columns</p>\n",
       "</div>"
      ],
      "text/plain": [
       "      id Timestamp Source Value       Reading\n",
       "1      1       0.0         -0.7  -1.574755E-5\n",
       "2      2  0.499888   -0.6858586  -1.404285E-5\n",
       "3      3  0.999888   -0.6717172  -1.379252E-5\n",
       "4      4  1.499888   -0.6575758  -1.322031E-5\n",
       "5      5  1.999888   -0.6434343  -1.263618E-5\n",
       "..   ...       ...          ...           ...\n",
       "96    96  47.49989    0.6434343   1.401901E-5\n",
       "97    97  47.99989    0.6575758   1.437664E-5\n",
       "98    98  48.49989    0.6717172   1.538992E-5\n",
       "99    99  48.99989    0.6858586   1.517534E-5\n",
       "100  100  49.49989          0.7   1.618862E-5\n",
       "\n",
       "[100 rows x 4 columns]"
      ]
     },
     "execution_count": 125,
     "metadata": {},
     "output_type": "execute_result"
    }
   ],
   "source": [
    "dataframe.drop(columns=['id'], inplace=False)\n",
    "dataframe"
   ]
  },
  {
   "cell_type": "code",
   "execution_count": 126,
   "id": "0abc5bf4",
   "metadata": {},
   "outputs": [
    {
     "data": {
      "text/plain": [
       "Index(['id', 'Timestamp', 'Source Value', 'Reading'], dtype='object')"
      ]
     },
     "execution_count": 126,
     "metadata": {},
     "output_type": "execute_result"
    }
   ],
   "source": [
    "dataframe.columns"
   ]
  },
  {
   "cell_type": "code",
   "execution_count": 127,
   "id": "bfa19ad5",
   "metadata": {},
   "outputs": [
    {
     "data": {
      "text/html": [
       "<div>\n",
       "<style scoped>\n",
       "    .dataframe tbody tr th:only-of-type {\n",
       "        vertical-align: middle;\n",
       "    }\n",
       "\n",
       "    .dataframe tbody tr th {\n",
       "        vertical-align: top;\n",
       "    }\n",
       "\n",
       "    .dataframe thead th {\n",
       "        text-align: right;\n",
       "    }\n",
       "</style>\n",
       "<table border=\"1\" class=\"dataframe\">\n",
       "  <thead>\n",
       "    <tr style=\"text-align: right;\">\n",
       "      <th></th>\n",
       "      <th>id</th>\n",
       "      <th>Timestamp</th>\n",
       "      <th>Source Value</th>\n",
       "      <th>Reading</th>\n",
       "    </tr>\n",
       "  </thead>\n",
       "  <tbody>\n",
       "    <tr>\n",
       "      <th>count</th>\n",
       "      <td>100</td>\n",
       "      <td>100</td>\n",
       "      <td>100</td>\n",
       "      <td>100</td>\n",
       "    </tr>\n",
       "    <tr>\n",
       "      <th>unique</th>\n",
       "      <td>100</td>\n",
       "      <td>100</td>\n",
       "      <td>100</td>\n",
       "      <td>98</td>\n",
       "    </tr>\n",
       "    <tr>\n",
       "      <th>top</th>\n",
       "      <td>1</td>\n",
       "      <td>0.0</td>\n",
       "      <td>-0.7</td>\n",
       "      <td>-1.13368E-5</td>\n",
       "    </tr>\n",
       "    <tr>\n",
       "      <th>freq</th>\n",
       "      <td>1</td>\n",
       "      <td>1</td>\n",
       "      <td>1</td>\n",
       "      <td>2</td>\n",
       "    </tr>\n",
       "  </tbody>\n",
       "</table>\n",
       "</div>"
      ],
      "text/plain": [
       "         id Timestamp Source Value      Reading\n",
       "count   100       100          100          100\n",
       "unique  100       100          100           98\n",
       "top       1       0.0         -0.7  -1.13368E-5\n",
       "freq      1         1            1            2"
      ]
     },
     "execution_count": 127,
     "metadata": {},
     "output_type": "execute_result"
    }
   ],
   "source": [
    "dataframe.describe()"
   ]
  },
  {
   "cell_type": "code",
   "execution_count": 128,
   "id": "9429c9b0",
   "metadata": {},
   "outputs": [
    {
     "data": {
      "text/plain": [
       "(100, 4)"
      ]
     },
     "execution_count": 128,
     "metadata": {},
     "output_type": "execute_result"
    }
   ],
   "source": [
    "dataframe.shape"
   ]
  },
  {
   "cell_type": "code",
   "execution_count": 129,
   "id": "2c766f18",
   "metadata": {},
   "outputs": [
    {
     "data": {
      "text/plain": [
       "400"
      ]
     },
     "execution_count": 129,
     "metadata": {},
     "output_type": "execute_result"
    }
   ],
   "source": [
    "dataframe.size"
   ]
  },
  {
   "cell_type": "code",
   "execution_count": 130,
   "id": "8a3a6e9d",
   "metadata": {},
   "outputs": [],
   "source": [
    "# changer le nom de la colonne du temps\n",
    "dataframe = dataframe.set_index('Timestamp')"
   ]
  },
  {
   "cell_type": "code",
   "execution_count": 131,
   "id": "701c59dd",
   "metadata": {},
   "outputs": [],
   "source": [
    "# Mettre les ligne en ordre en fonction de l'index aui est le temps\n",
    "dataframe = dataframe.sort_index()"
   ]
  },
  {
   "cell_type": "code",
   "execution_count": 132,
   "id": "1b19e6d4",
   "metadata": {},
   "outputs": [
    {
     "data": {
      "text/html": [
       "<div>\n",
       "<style scoped>\n",
       "    .dataframe tbody tr th:only-of-type {\n",
       "        vertical-align: middle;\n",
       "    }\n",
       "\n",
       "    .dataframe tbody tr th {\n",
       "        vertical-align: top;\n",
       "    }\n",
       "\n",
       "    .dataframe thead th {\n",
       "        text-align: right;\n",
       "    }\n",
       "</style>\n",
       "<table border=\"1\" class=\"dataframe\">\n",
       "  <thead>\n",
       "    <tr style=\"text-align: right;\">\n",
       "      <th></th>\n",
       "      <th>id</th>\n",
       "      <th>Source Value</th>\n",
       "      <th>Reading</th>\n",
       "    </tr>\n",
       "    <tr>\n",
       "      <th>Timestamp</th>\n",
       "      <th></th>\n",
       "      <th></th>\n",
       "      <th></th>\n",
       "    </tr>\n",
       "  </thead>\n",
       "  <tbody>\n",
       "    <tr>\n",
       "      <th>0.0</th>\n",
       "      <td>1</td>\n",
       "      <td>-0.7</td>\n",
       "      <td>-1.574755E-5</td>\n",
       "    </tr>\n",
       "    <tr>\n",
       "      <th>0.499888</th>\n",
       "      <td>2</td>\n",
       "      <td>-0.6858586</td>\n",
       "      <td>-1.404285E-5</td>\n",
       "    </tr>\n",
       "    <tr>\n",
       "      <th>0.999888</th>\n",
       "      <td>3</td>\n",
       "      <td>-0.6717172</td>\n",
       "      <td>-1.379252E-5</td>\n",
       "    </tr>\n",
       "    <tr>\n",
       "      <th>1.499888</th>\n",
       "      <td>4</td>\n",
       "      <td>-0.6575758</td>\n",
       "      <td>-1.322031E-5</td>\n",
       "    </tr>\n",
       "    <tr>\n",
       "      <th>1.999888</th>\n",
       "      <td>5</td>\n",
       "      <td>-0.6434343</td>\n",
       "      <td>-1.263618E-5</td>\n",
       "    </tr>\n",
       "  </tbody>\n",
       "</table>\n",
       "</div>"
      ],
      "text/plain": [
       "          id Source Value       Reading\n",
       "Timestamp                              \n",
       "0.0        1         -0.7  -1.574755E-5\n",
       "0.499888   2   -0.6858586  -1.404285E-5\n",
       "0.999888   3   -0.6717172  -1.379252E-5\n",
       "1.499888   4   -0.6575758  -1.322031E-5\n",
       "1.999888   5   -0.6434343  -1.263618E-5"
      ]
     },
     "execution_count": 132,
     "metadata": {},
     "output_type": "execute_result"
    }
   ],
   "source": [
    "# Debut du document\n",
    "dataframe.head()"
   ]
  },
  {
   "cell_type": "code",
   "execution_count": 133,
   "id": "f2e4683d",
   "metadata": {},
   "outputs": [
    {
     "name": "stdout",
     "output_type": "stream",
     "text": [
      "DataFrame Info:\n",
      "<class 'pandas.core.frame.DataFrame'>\n",
      "Index: 100 entries, 0.0 to 9.999889\n",
      "Data columns (total 3 columns):\n",
      " #   Column        Non-Null Count  Dtype \n",
      "---  ------        --------------  ----- \n",
      " 0   id            100 non-null    object\n",
      " 1   Source Value  100 non-null    object\n",
      " 2   Reading       100 non-null    object\n",
      "dtypes: object(3)\n",
      "memory usage: 3.1+ KB\n"
     ]
    }
   ],
   "source": [
    "# info su r les donnees\n",
    "print(\"DataFrame Info:\")\n",
    "dataframe.info()"
   ]
  },
  {
   "cell_type": "code",
   "execution_count": 134,
   "id": "af4d0d3b",
   "metadata": {},
   "outputs": [
    {
     "name": "stdout",
     "output_type": "stream",
     "text": [
      "Debut: 0.0\n",
      "Fin: 9.999889\n"
     ]
    }
   ],
   "source": [
    "# Regardond levolution du temps\n",
    "print(f\"Debut: {dataframe.index.min()}\")\n",
    "print(f\"Fin: {dataframe.index.max()}\")"
   ]
  },
  {
   "cell_type": "code",
   "execution_count": 135,
   "id": "c509baea",
   "metadata": {},
   "outputs": [
    {
     "ename": "KeyError",
     "evalue": "'Direct consumption [kW]'",
     "output_type": "error",
     "traceback": [
      "\u001b[1;31m---------------------------------------------------------------------------\u001b[0m",
      "\u001b[1;31mKeyError\u001b[0m                                  Traceback (most recent call last)",
      "File \u001b[1;32mc:\\Users\\lenovo\\anaconda3\\envs\\python-advance-env\\lib\\site-packages\\pandas\\core\\indexes\\base.py:3812\u001b[0m, in \u001b[0;36mIndex.get_loc\u001b[1;34m(self, key)\u001b[0m\n\u001b[0;32m   3811\u001b[0m \u001b[38;5;28;01mtry\u001b[39;00m:\n\u001b[1;32m-> 3812\u001b[0m     \u001b[38;5;28;01mreturn\u001b[39;00m \u001b[38;5;28;43mself\u001b[39;49m\u001b[38;5;241;43m.\u001b[39;49m\u001b[43m_engine\u001b[49m\u001b[38;5;241;43m.\u001b[39;49m\u001b[43mget_loc\u001b[49m\u001b[43m(\u001b[49m\u001b[43mcasted_key\u001b[49m\u001b[43m)\u001b[49m\n\u001b[0;32m   3813\u001b[0m \u001b[38;5;28;01mexcept\u001b[39;00m \u001b[38;5;167;01mKeyError\u001b[39;00m \u001b[38;5;28;01mas\u001b[39;00m err:\n",
      "File \u001b[1;32mpandas/_libs/index.pyx:167\u001b[0m, in \u001b[0;36mpandas._libs.index.IndexEngine.get_loc\u001b[1;34m()\u001b[0m\n",
      "File \u001b[1;32mpandas/_libs/index.pyx:196\u001b[0m, in \u001b[0;36mpandas._libs.index.IndexEngine.get_loc\u001b[1;34m()\u001b[0m\n",
      "File \u001b[1;32mpandas/_libs/hashtable_class_helper.pxi:7088\u001b[0m, in \u001b[0;36mpandas._libs.hashtable.PyObjectHashTable.get_item\u001b[1;34m()\u001b[0m\n",
      "File \u001b[1;32mpandas/_libs/hashtable_class_helper.pxi:7096\u001b[0m, in \u001b[0;36mpandas._libs.hashtable.PyObjectHashTable.get_item\u001b[1;34m()\u001b[0m\n",
      "\u001b[1;31mKeyError\u001b[0m: 'Direct consumption [kW]'",
      "\nThe above exception was the direct cause of the following exception:\n",
      "\u001b[1;31mKeyError\u001b[0m                                  Traceback (most recent call last)",
      "Cell \u001b[1;32mIn[135], line 7\u001b[0m\n\u001b[0;32m      4\u001b[0m fig, ax \u001b[38;5;241m=\u001b[39m plt\u001b[38;5;241m.\u001b[39msubplots(figsize\u001b[38;5;241m=\u001b[39m(\u001b[38;5;241m15\u001b[39m, \u001b[38;5;241m8\u001b[39m))\n\u001b[0;32m      6\u001b[0m \u001b[38;5;66;03m# Tracer les données avec des couleurs différentes\u001b[39;00m\n\u001b[1;32m----> 7\u001b[0m ax\u001b[38;5;241m.\u001b[39mplot(dataframe\u001b[38;5;241m.\u001b[39mindex, \u001b[43mdataframe\u001b[49m\u001b[43m[\u001b[49m\u001b[38;5;124;43m'\u001b[39;49m\u001b[38;5;124;43mDirect consumption [kW]\u001b[39;49m\u001b[38;5;124;43m'\u001b[39;49m\u001b[43m]\u001b[49m, \u001b[38;5;124m'\u001b[39m\u001b[38;5;124mb-\u001b[39m\u001b[38;5;124m'\u001b[39m, \n\u001b[0;32m      8\u001b[0m         label\u001b[38;5;241m=\u001b[39m\u001b[38;5;124m'\u001b[39m\u001b[38;5;124mDirect consumption\u001b[39m\u001b[38;5;124m'\u001b[39m, linewidth\u001b[38;5;241m=\u001b[39m\u001b[38;5;241m1\u001b[39m)\n\u001b[0;32m      9\u001b[0m ax\u001b[38;5;241m.\u001b[39mplot(dataframe\u001b[38;5;241m.\u001b[39mindex, dataframe[\u001b[38;5;124m'\u001b[39m\u001b[38;5;124mGrid-supplied power [kW]\u001b[39m\u001b[38;5;124m'\u001b[39m], \u001b[38;5;124m'\u001b[39m\u001b[38;5;124mg-\u001b[39m\u001b[38;5;124m'\u001b[39m, \n\u001b[0;32m     10\u001b[0m         label\u001b[38;5;241m=\u001b[39m\u001b[38;5;124m'\u001b[39m\u001b[38;5;124mGrid-supplied power\u001b[39m\u001b[38;5;124m'\u001b[39m, linewidth\u001b[38;5;241m=\u001b[39m\u001b[38;5;241m1\u001b[39m)\n\u001b[0;32m     11\u001b[0m ax\u001b[38;5;241m.\u001b[39mplot(dataframe\u001b[38;5;241m.\u001b[39mindex, dataframe[\u001b[38;5;124m'\u001b[39m\u001b[38;5;124mGrid feed-in [kW]\u001b[39m\u001b[38;5;124m'\u001b[39m], \u001b[38;5;124m'\u001b[39m\u001b[38;5;124mr-\u001b[39m\u001b[38;5;124m'\u001b[39m, \n\u001b[0;32m     12\u001b[0m         label\u001b[38;5;241m=\u001b[39m\u001b[38;5;124m'\u001b[39m\u001b[38;5;124mGrid feed-in\u001b[39m\u001b[38;5;124m'\u001b[39m, linewidth\u001b[38;5;241m=\u001b[39m\u001b[38;5;241m1\u001b[39m)\n",
      "File \u001b[1;32mc:\\Users\\lenovo\\anaconda3\\envs\\python-advance-env\\lib\\site-packages\\pandas\\core\\frame.py:4107\u001b[0m, in \u001b[0;36mDataFrame.__getitem__\u001b[1;34m(self, key)\u001b[0m\n\u001b[0;32m   4105\u001b[0m \u001b[38;5;28;01mif\u001b[39;00m \u001b[38;5;28mself\u001b[39m\u001b[38;5;241m.\u001b[39mcolumns\u001b[38;5;241m.\u001b[39mnlevels \u001b[38;5;241m>\u001b[39m \u001b[38;5;241m1\u001b[39m:\n\u001b[0;32m   4106\u001b[0m     \u001b[38;5;28;01mreturn\u001b[39;00m \u001b[38;5;28mself\u001b[39m\u001b[38;5;241m.\u001b[39m_getitem_multilevel(key)\n\u001b[1;32m-> 4107\u001b[0m indexer \u001b[38;5;241m=\u001b[39m \u001b[38;5;28;43mself\u001b[39;49m\u001b[38;5;241;43m.\u001b[39;49m\u001b[43mcolumns\u001b[49m\u001b[38;5;241;43m.\u001b[39;49m\u001b[43mget_loc\u001b[49m\u001b[43m(\u001b[49m\u001b[43mkey\u001b[49m\u001b[43m)\u001b[49m\n\u001b[0;32m   4108\u001b[0m \u001b[38;5;28;01mif\u001b[39;00m is_integer(indexer):\n\u001b[0;32m   4109\u001b[0m     indexer \u001b[38;5;241m=\u001b[39m [indexer]\n",
      "File \u001b[1;32mc:\\Users\\lenovo\\anaconda3\\envs\\python-advance-env\\lib\\site-packages\\pandas\\core\\indexes\\base.py:3819\u001b[0m, in \u001b[0;36mIndex.get_loc\u001b[1;34m(self, key)\u001b[0m\n\u001b[0;32m   3814\u001b[0m     \u001b[38;5;28;01mif\u001b[39;00m \u001b[38;5;28misinstance\u001b[39m(casted_key, \u001b[38;5;28mslice\u001b[39m) \u001b[38;5;129;01mor\u001b[39;00m (\n\u001b[0;32m   3815\u001b[0m         \u001b[38;5;28misinstance\u001b[39m(casted_key, abc\u001b[38;5;241m.\u001b[39mIterable)\n\u001b[0;32m   3816\u001b[0m         \u001b[38;5;129;01mand\u001b[39;00m \u001b[38;5;28many\u001b[39m(\u001b[38;5;28misinstance\u001b[39m(x, \u001b[38;5;28mslice\u001b[39m) \u001b[38;5;28;01mfor\u001b[39;00m x \u001b[38;5;129;01min\u001b[39;00m casted_key)\n\u001b[0;32m   3817\u001b[0m     ):\n\u001b[0;32m   3818\u001b[0m         \u001b[38;5;28;01mraise\u001b[39;00m InvalidIndexError(key)\n\u001b[1;32m-> 3819\u001b[0m     \u001b[38;5;28;01mraise\u001b[39;00m \u001b[38;5;167;01mKeyError\u001b[39;00m(key) \u001b[38;5;28;01mfrom\u001b[39;00m\u001b[38;5;250m \u001b[39m\u001b[38;5;21;01merr\u001b[39;00m\n\u001b[0;32m   3820\u001b[0m \u001b[38;5;28;01mexcept\u001b[39;00m \u001b[38;5;167;01mTypeError\u001b[39;00m:\n\u001b[0;32m   3821\u001b[0m     \u001b[38;5;66;03m# If we have a listlike key, _check_indexing_error will raise\u001b[39;00m\n\u001b[0;32m   3822\u001b[0m     \u001b[38;5;66;03m#  InvalidIndexError. Otherwise we fall through and re-raise\u001b[39;00m\n\u001b[0;32m   3823\u001b[0m     \u001b[38;5;66;03m#  the TypeError.\u001b[39;00m\n\u001b[0;32m   3824\u001b[0m     \u001b[38;5;28mself\u001b[39m\u001b[38;5;241m.\u001b[39m_check_indexing_error(key)\n",
      "\u001b[1;31mKeyError\u001b[0m: 'Direct consumption [kW]'"
     ]
    },
    {
     "data": {
      "image/png": "[encoded data removed]",
      "text/plain": [
       "<Figure size 1500x800 with 1 Axes>"
      ]
     },
     "metadata": {},
     "output_type": "display_data"
    }
   ],
   "source": [
    "import matplotlib.pyplot as plt\n",
    "\n",
    "# Créer une figure\n",
    "fig, ax = plt.subplots(figsize=(15, 8))\n",
    "\n",
    "# Tracer les données avec des couleurs différentes\n",
    "ax.plot(dataframe.index, dataframe['Direct consumption [kW]'], 'b-', \n",
    "        label='Direct consumption', linewidth=1)\n",
    "ax.plot(dataframe.index, dataframe['Grid-supplied power [kW]'], 'g-', \n",
    "        label='Grid-supplied power', linewidth=1)\n",
    "ax.plot(dataframe.index, dataframe['Grid feed-in [kW]'], 'r-', \n",
    "        label='Grid feed-in', linewidth=1)\n",
    "ax.plot(dataframe.index, dataframe['Total consumption [kW]'], 'y-', \n",
    "        label='Total consumption', linewidth=1)\n",
    "ax.plot(dataframe.index, dataframe['Total generation [kW]'], 'm-', \n",
    "        label='Total generation', linewidth=1)\n",
    "\n",
    "# Configurer les axes et les labels\n",
    "ax.set_xlabel('Time')\n",
    "ax.set_ylabel('Power [kW]')\n",
    "\n",
    "# Rotation des étiquettes de l'axe x pour une meilleure lisibilité\n",
    "plt.xticks(rotation=45)\n",
    "\n",
    "# Ajouter la légende\n",
    "ax.legend(loc='upper right')\n",
    "\n",
    "# Titre du graphique\n",
    "plt.title('Power Metrics Over Time')\n",
    "\n",
    "# Ajuster la mise en page\n",
    "plt.grid(True)\n",
    "plt.tight_layout()\n",
    "\n",
    "# Afficher le graphique\n",
    "plt.show()"
   ]
  }
 ],
 "metadata": {
  "kernelspec": {
   "display_name": "python-advance-env",
   "language": "python",
   "name": "python3"
  },
  "language_info": {
   "codemirror_mode": {
    "name": "ipython",
    "version": 3
   },
   "file_extension": ".py",
   "mimetype": "text/x-python",
   "name": "python",
   "nbconvert_exporter": "python",
   "pygments_lexer": "ipython3",
   "version": "3.10.18"
  }
 },
 "nbformat": 4,
 "nbformat_minor": 5
}
