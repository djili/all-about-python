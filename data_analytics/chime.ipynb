{
 "cells": [
  {
   "cell_type": "code",
   "execution_count": 18,
   "id": "e51f1bed",
   "metadata": {},
   "outputs": [],
   "source": [
    "import pandas as pd\n"
   ]
  },
  {
   "cell_type": "code",
   "execution_count": 19,
   "id": "162317a7",
   "metadata": {},
   "outputs": [
    {
     "name": "stderr",
     "output_type": "stream",
     "text": [
      "C:\\Users\\lenovo\\AppData\\Local\\Temp\\ipykernel_10724\\3428632325.py:1: UserWarning: Could not infer format, so each element will be parsed individually, falling back to `dateutil`. To ensure parsing is consistent and as-expected, please specify a format.\n",
      "  dataframe = pd.read_csv(\"../data/84_amb2_2.1.csv\", delimiter=\";\", skiprows=45, parse_dates=['Timestamp'])\n"
     ]
    },
    {
     "data": {
      "text/html": [
       "<div>\n",
       "<style scoped>\n",
       "    .dataframe tbody tr th:only-of-type {\n",
       "        vertical-align: middle;\n",
       "    }\n",
       "\n",
       "    .dataframe tbody tr th {\n",
       "        vertical-align: top;\n",
       "    }\n",
       "\n",
       "    .dataframe thead th {\n",
       "        text-align: right;\n",
       "    }\n",
       "</style>\n",
       "<table border=\"1\" class=\"dataframe\">\n",
       "  <thead>\n",
       "    <tr style=\"text-align: right;\">\n",
       "      <th></th>\n",
       "      <th>Unnamed: 0</th>\n",
       "      <th>Timestamp</th>\n",
       "      <th>Source Value</th>\n",
       "      <th>Reading</th>\n",
       "    </tr>\n",
       "  </thead>\n",
       "  <tbody>\n",
       "    <tr>\n",
       "      <th>0</th>\n",
       "      <td>NaN</td>\n",
       "      <td>(seconds)</td>\n",
       "      <td>(Volts)</td>\n",
       "      <td>(Amps)</td>\n",
       "    </tr>\n",
       "    <tr>\n",
       "      <th>1</th>\n",
       "      <td>1.0</td>\n",
       "      <td>0.0</td>\n",
       "      <td>-0.7</td>\n",
       "      <td>-1.574755E-5</td>\n",
       "    </tr>\n",
       "    <tr>\n",
       "      <th>2</th>\n",
       "      <td>2.0</td>\n",
       "      <td>0.499888</td>\n",
       "      <td>-0.6858586</td>\n",
       "      <td>-1.404285E-5</td>\n",
       "    </tr>\n",
       "    <tr>\n",
       "      <th>3</th>\n",
       "      <td>3.0</td>\n",
       "      <td>0.999888</td>\n",
       "      <td>-0.6717172</td>\n",
       "      <td>-1.379252E-5</td>\n",
       "    </tr>\n",
       "    <tr>\n",
       "      <th>4</th>\n",
       "      <td>4.0</td>\n",
       "      <td>1.499888</td>\n",
       "      <td>-0.6575758</td>\n",
       "      <td>-1.322031E-5</td>\n",
       "    </tr>\n",
       "    <tr>\n",
       "      <th>...</th>\n",
       "      <td>...</td>\n",
       "      <td>...</td>\n",
       "      <td>...</td>\n",
       "      <td>...</td>\n",
       "    </tr>\n",
       "    <tr>\n",
       "      <th>96</th>\n",
       "      <td>96.0</td>\n",
       "      <td>47.49989</td>\n",
       "      <td>0.6434343</td>\n",
       "      <td>1.401901E-5</td>\n",
       "    </tr>\n",
       "    <tr>\n",
       "      <th>97</th>\n",
       "      <td>97.0</td>\n",
       "      <td>47.99989</td>\n",
       "      <td>0.6575758</td>\n",
       "      <td>1.437664E-5</td>\n",
       "    </tr>\n",
       "    <tr>\n",
       "      <th>98</th>\n",
       "      <td>98.0</td>\n",
       "      <td>48.49989</td>\n",
       "      <td>0.6717172</td>\n",
       "      <td>1.538992E-5</td>\n",
       "    </tr>\n",
       "    <tr>\n",
       "      <th>99</th>\n",
       "      <td>99.0</td>\n",
       "      <td>48.99989</td>\n",
       "      <td>0.6858586</td>\n",
       "      <td>1.517534E-5</td>\n",
       "    </tr>\n",
       "    <tr>\n",
       "      <th>100</th>\n",
       "      <td>100.0</td>\n",
       "      <td>49.49989</td>\n",
       "      <td>0.7</td>\n",
       "      <td>1.618862E-5</td>\n",
       "    </tr>\n",
       "  </tbody>\n",
       "</table>\n",
       "<p>101 rows × 4 columns</p>\n",
       "</div>"
      ],
      "text/plain": [
       "     Unnamed: 0  Timestamp Source Value       Reading\n",
       "0           NaN  (seconds)      (Volts)        (Amps)\n",
       "1           1.0        0.0         -0.7  -1.574755E-5\n",
       "2           2.0   0.499888   -0.6858586  -1.404285E-5\n",
       "3           3.0   0.999888   -0.6717172  -1.379252E-5\n",
       "4           4.0   1.499888   -0.6575758  -1.322031E-5\n",
       "..          ...        ...          ...           ...\n",
       "96         96.0   47.49989    0.6434343   1.401901E-5\n",
       "97         97.0   47.99989    0.6575758   1.437664E-5\n",
       "98         98.0   48.49989    0.6717172   1.538992E-5\n",
       "99         99.0   48.99989    0.6858586   1.517534E-5\n",
       "100       100.0   49.49989          0.7   1.618862E-5\n",
       "\n",
       "[101 rows x 4 columns]"
      ]
     },
     "execution_count": 19,
     "metadata": {},
     "output_type": "execute_result"
    }
   ],
   "source": [
    "dataframe = pd.read_csv(\"../data/84_amb2_2.1.csv\", delimiter=\";\", skiprows=45, parse_dates=['Timestamp'])\n",
    "dataframe"
   ]
  },
  {
   "cell_type": "code",
   "execution_count": 20,
   "id": "0a53fb5d",
   "metadata": {},
   "outputs": [
    {
     "data": {
      "text/plain": [
       "0"
      ]
     },
     "execution_count": 20,
     "metadata": {},
     "output_type": "execute_result"
    }
   ],
   "source": [
    "dataframe.index[0]"
   ]
  },
  {
   "cell_type": "code",
   "execution_count": 21,
   "id": "37cf8216",
   "metadata": {},
   "outputs": [
    {
     "data": {
      "text/html": [
       "<div>\n",
       "<style scoped>\n",
       "    .dataframe tbody tr th:only-of-type {\n",
       "        vertical-align: middle;\n",
       "    }\n",
       "\n",
       "    .dataframe tbody tr th {\n",
       "        vertical-align: top;\n",
       "    }\n",
       "\n",
       "    .dataframe thead th {\n",
       "        text-align: right;\n",
       "    }\n",
       "</style>\n",
       "<table border=\"1\" class=\"dataframe\">\n",
       "  <thead>\n",
       "    <tr style=\"text-align: right;\">\n",
       "      <th></th>\n",
       "      <th>Unnamed: 0</th>\n",
       "      <th>Timestamp</th>\n",
       "      <th>Source Value</th>\n",
       "      <th>Reading</th>\n",
       "    </tr>\n",
       "  </thead>\n",
       "  <tbody>\n",
       "    <tr>\n",
       "      <th>1</th>\n",
       "      <td>1.0</td>\n",
       "      <td>0.0</td>\n",
       "      <td>-0.7</td>\n",
       "      <td>-1.574755E-5</td>\n",
       "    </tr>\n",
       "    <tr>\n",
       "      <th>2</th>\n",
       "      <td>2.0</td>\n",
       "      <td>0.499888</td>\n",
       "      <td>-0.6858586</td>\n",
       "      <td>-1.404285E-5</td>\n",
       "    </tr>\n",
       "    <tr>\n",
       "      <th>3</th>\n",
       "      <td>3.0</td>\n",
       "      <td>0.999888</td>\n",
       "      <td>-0.6717172</td>\n",
       "      <td>-1.379252E-5</td>\n",
       "    </tr>\n",
       "    <tr>\n",
       "      <th>4</th>\n",
       "      <td>4.0</td>\n",
       "      <td>1.499888</td>\n",
       "      <td>-0.6575758</td>\n",
       "      <td>-1.322031E-5</td>\n",
       "    </tr>\n",
       "    <tr>\n",
       "      <th>5</th>\n",
       "      <td>5.0</td>\n",
       "      <td>1.999888</td>\n",
       "      <td>-0.6434343</td>\n",
       "      <td>-1.263618E-5</td>\n",
       "    </tr>\n",
       "    <tr>\n",
       "      <th>...</th>\n",
       "      <td>...</td>\n",
       "      <td>...</td>\n",
       "      <td>...</td>\n",
       "      <td>...</td>\n",
       "    </tr>\n",
       "    <tr>\n",
       "      <th>96</th>\n",
       "      <td>96.0</td>\n",
       "      <td>47.49989</td>\n",
       "      <td>0.6434343</td>\n",
       "      <td>1.401901E-5</td>\n",
       "    </tr>\n",
       "    <tr>\n",
       "      <th>97</th>\n",
       "      <td>97.0</td>\n",
       "      <td>47.99989</td>\n",
       "      <td>0.6575758</td>\n",
       "      <td>1.437664E-5</td>\n",
       "    </tr>\n",
       "    <tr>\n",
       "      <th>98</th>\n",
       "      <td>98.0</td>\n",
       "      <td>48.49989</td>\n",
       "      <td>0.6717172</td>\n",
       "      <td>1.538992E-5</td>\n",
       "    </tr>\n",
       "    <tr>\n",
       "      <th>99</th>\n",
       "      <td>99.0</td>\n",
       "      <td>48.99989</td>\n",
       "      <td>0.6858586</td>\n",
       "      <td>1.517534E-5</td>\n",
       "    </tr>\n",
       "    <tr>\n",
       "      <th>100</th>\n",
       "      <td>100.0</td>\n",
       "      <td>49.49989</td>\n",
       "      <td>0.7</td>\n",
       "      <td>1.618862E-5</td>\n",
       "    </tr>\n",
       "  </tbody>\n",
       "</table>\n",
       "<p>100 rows × 4 columns</p>\n",
       "</div>"
      ],
      "text/plain": [
       "     Unnamed: 0 Timestamp Source Value       Reading\n",
       "1           1.0       0.0         -0.7  -1.574755E-5\n",
       "2           2.0  0.499888   -0.6858586  -1.404285E-5\n",
       "3           3.0  0.999888   -0.6717172  -1.379252E-5\n",
       "4           4.0  1.499888   -0.6575758  -1.322031E-5\n",
       "5           5.0  1.999888   -0.6434343  -1.263618E-5\n",
       "..          ...       ...          ...           ...\n",
       "96         96.0  47.49989    0.6434343   1.401901E-5\n",
       "97         97.0  47.99989    0.6575758   1.437664E-5\n",
       "98         98.0  48.49989    0.6717172   1.538992E-5\n",
       "99         99.0  48.99989    0.6858586   1.517534E-5\n",
       "100       100.0  49.49989          0.7   1.618862E-5\n",
       "\n",
       "[100 rows x 4 columns]"
      ]
     },
     "execution_count": 21,
     "metadata": {},
     "output_type": "execute_result"
    }
   ],
   "source": [
    "dataframe = dataframe.drop(dataframe.index[0])\n",
    "dataframe"
   ]
  },
  {
   "cell_type": "code",
   "execution_count": 22,
   "id": "e859c663",
   "metadata": {},
   "outputs": [
    {
     "data": {
      "text/html": [
       "<div>\n",
       "<style scoped>\n",
       "    .dataframe tbody tr th:only-of-type {\n",
       "        vertical-align: middle;\n",
       "    }\n",
       "\n",
       "    .dataframe tbody tr th {\n",
       "        vertical-align: top;\n",
       "    }\n",
       "\n",
       "    .dataframe thead th {\n",
       "        text-align: right;\n",
       "    }\n",
       "</style>\n",
       "<table border=\"1\" class=\"dataframe\">\n",
       "  <thead>\n",
       "    <tr style=\"text-align: right;\">\n",
       "      <th></th>\n",
       "      <th>Timestamp</th>\n",
       "      <th>Source Value</th>\n",
       "      <th>Reading</th>\n",
       "    </tr>\n",
       "  </thead>\n",
       "  <tbody>\n",
       "    <tr>\n",
       "      <th>1</th>\n",
       "      <td>0.0</td>\n",
       "      <td>-0.7</td>\n",
       "      <td>-1.574755E-5</td>\n",
       "    </tr>\n",
       "    <tr>\n",
       "      <th>2</th>\n",
       "      <td>0.499888</td>\n",
       "      <td>-0.6858586</td>\n",
       "      <td>-1.404285E-5</td>\n",
       "    </tr>\n",
       "    <tr>\n",
       "      <th>3</th>\n",
       "      <td>0.999888</td>\n",
       "      <td>-0.6717172</td>\n",
       "      <td>-1.379252E-5</td>\n",
       "    </tr>\n",
       "    <tr>\n",
       "      <th>4</th>\n",
       "      <td>1.499888</td>\n",
       "      <td>-0.6575758</td>\n",
       "      <td>-1.322031E-5</td>\n",
       "    </tr>\n",
       "    <tr>\n",
       "      <th>5</th>\n",
       "      <td>1.999888</td>\n",
       "      <td>-0.6434343</td>\n",
       "      <td>-1.263618E-5</td>\n",
       "    </tr>\n",
       "    <tr>\n",
       "      <th>...</th>\n",
       "      <td>...</td>\n",
       "      <td>...</td>\n",
       "      <td>...</td>\n",
       "    </tr>\n",
       "    <tr>\n",
       "      <th>96</th>\n",
       "      <td>47.49989</td>\n",
       "      <td>0.6434343</td>\n",
       "      <td>1.401901E-5</td>\n",
       "    </tr>\n",
       "    <tr>\n",
       "      <th>97</th>\n",
       "      <td>47.99989</td>\n",
       "      <td>0.6575758</td>\n",
       "      <td>1.437664E-5</td>\n",
       "    </tr>\n",
       "    <tr>\n",
       "      <th>98</th>\n",
       "      <td>48.49989</td>\n",
       "      <td>0.6717172</td>\n",
       "      <td>1.538992E-5</td>\n",
       "    </tr>\n",
       "    <tr>\n",
       "      <th>99</th>\n",
       "      <td>48.99989</td>\n",
       "      <td>0.6858586</td>\n",
       "      <td>1.517534E-5</td>\n",
       "    </tr>\n",
       "    <tr>\n",
       "      <th>100</th>\n",
       "      <td>49.49989</td>\n",
       "      <td>0.7</td>\n",
       "      <td>1.618862E-5</td>\n",
       "    </tr>\n",
       "  </tbody>\n",
       "</table>\n",
       "<p>100 rows × 3 columns</p>\n",
       "</div>"
      ],
      "text/plain": [
       "    Timestamp Source Value       Reading\n",
       "1         0.0         -0.7  -1.574755E-5\n",
       "2    0.499888   -0.6858586  -1.404285E-5\n",
       "3    0.999888   -0.6717172  -1.379252E-5\n",
       "4    1.499888   -0.6575758  -1.322031E-5\n",
       "5    1.999888   -0.6434343  -1.263618E-5\n",
       "..        ...          ...           ...\n",
       "96   47.49989    0.6434343   1.401901E-5\n",
       "97   47.99989    0.6575758   1.437664E-5\n",
       "98   48.49989    0.6717172   1.538992E-5\n",
       "99   48.99989    0.6858586   1.517534E-5\n",
       "100  49.49989          0.7   1.618862E-5\n",
       "\n",
       "[100 rows x 3 columns]"
      ]
     },
     "execution_count": 22,
     "metadata": {},
     "output_type": "execute_result"
    }
   ],
   "source": [
    "dataframe.drop(columns=['Unnamed: 0'], inplace=True)\n",
    "dataframe"
   ]
  },
  {
   "cell_type": "code",
   "execution_count": 23,
   "id": "0abc5bf4",
   "metadata": {},
   "outputs": [
    {
     "data": {
      "text/plain": [
       "Index(['Timestamp', 'Source Value', 'Reading'], dtype='object')"
      ]
     },
     "execution_count": 23,
     "metadata": {},
     "output_type": "execute_result"
    }
   ],
   "source": [
    "dataframe.columns"
   ]
  },
  {
   "cell_type": "code",
   "execution_count": 24,
   "id": "bfa19ad5",
   "metadata": {},
   "outputs": [
    {
     "data": {
      "text/html": [
       "<div>\n",
       "<style scoped>\n",
       "    .dataframe tbody tr th:only-of-type {\n",
       "        vertical-align: middle;\n",
       "    }\n",
       "\n",
       "    .dataframe tbody tr th {\n",
       "        vertical-align: top;\n",
       "    }\n",
       "\n",
       "    .dataframe thead th {\n",
       "        text-align: right;\n",
       "    }\n",
       "</style>\n",
       "<table border=\"1\" class=\"dataframe\">\n",
       "  <thead>\n",
       "    <tr style=\"text-align: right;\">\n",
       "      <th></th>\n",
       "      <th>Timestamp</th>\n",
       "      <th>Source Value</th>\n",
       "      <th>Reading</th>\n",
       "    </tr>\n",
       "  </thead>\n",
       "  <tbody>\n",
       "    <tr>\n",
       "      <th>count</th>\n",
       "      <td>100</td>\n",
       "      <td>100</td>\n",
       "      <td>100</td>\n",
       "    </tr>\n",
       "    <tr>\n",
       "      <th>unique</th>\n",
       "      <td>100</td>\n",
       "      <td>100</td>\n",
       "      <td>98</td>\n",
       "    </tr>\n",
       "    <tr>\n",
       "      <th>top</th>\n",
       "      <td>0.0</td>\n",
       "      <td>-0.7</td>\n",
       "      <td>-1.13368E-5</td>\n",
       "    </tr>\n",
       "    <tr>\n",
       "      <th>freq</th>\n",
       "      <td>1</td>\n",
       "      <td>1</td>\n",
       "      <td>2</td>\n",
       "    </tr>\n",
       "  </tbody>\n",
       "</table>\n",
       "</div>"
      ],
      "text/plain": [
       "       Timestamp Source Value      Reading\n",
       "count        100          100          100\n",
       "unique       100          100           98\n",
       "top          0.0         -0.7  -1.13368E-5\n",
       "freq           1            1            2"
      ]
     },
     "execution_count": 24,
     "metadata": {},
     "output_type": "execute_result"
    }
   ],
   "source": [
    "dataframe.describe()"
   ]
  },
  {
   "cell_type": "code",
   "execution_count": 25,
   "id": "9429c9b0",
   "metadata": {},
   "outputs": [
    {
     "data": {
      "text/plain": [
       "(100, 3)"
      ]
     },
     "execution_count": 25,
     "metadata": {},
     "output_type": "execute_result"
    }
   ],
   "source": [
    "dataframe.shape"
   ]
  },
  {
   "cell_type": "code",
   "execution_count": 26,
   "id": "2c766f18",
   "metadata": {},
   "outputs": [
    {
     "data": {
      "text/plain": [
       "300"
      ]
     },
     "execution_count": 26,
     "metadata": {},
     "output_type": "execute_result"
    }
   ],
   "source": [
    "dataframe.size"
   ]
  },
  {
   "cell_type": "code",
   "execution_count": 27,
   "id": "8a3a6e9d",
   "metadata": {},
   "outputs": [],
   "source": [
    "# changer le nom de la colonne du temps\n",
    "dataframe = dataframe.set_index('Timestamp')"
   ]
  },
  {
   "cell_type": "code",
   "execution_count": 28,
   "id": "701c59dd",
   "metadata": {},
   "outputs": [],
   "source": [
    "# Mettre les ligne en ordre en fonction de l'index aui est le temps\n",
    "dataframe = dataframe.sort_index()"
   ]
  },
  {
   "cell_type": "code",
   "execution_count": 29,
   "id": "1b19e6d4",
   "metadata": {},
   "outputs": [
    {
     "data": {
      "text/html": [
       "<div>\n",
       "<style scoped>\n",
       "    .dataframe tbody tr th:only-of-type {\n",
       "        vertical-align: middle;\n",
       "    }\n",
       "\n",
       "    .dataframe tbody tr th {\n",
       "        vertical-align: top;\n",
       "    }\n",
       "\n",
       "    .dataframe thead th {\n",
       "        text-align: right;\n",
       "    }\n",
       "</style>\n",
       "<table border=\"1\" class=\"dataframe\">\n",
       "  <thead>\n",
       "    <tr style=\"text-align: right;\">\n",
       "      <th></th>\n",
       "      <th>Source Value</th>\n",
       "      <th>Reading</th>\n",
       "    </tr>\n",
       "    <tr>\n",
       "      <th>Timestamp</th>\n",
       "      <th></th>\n",
       "      <th></th>\n",
       "    </tr>\n",
       "  </thead>\n",
       "  <tbody>\n",
       "    <tr>\n",
       "      <th>0.0</th>\n",
       "      <td>-0.7</td>\n",
       "      <td>-1.574755E-5</td>\n",
       "    </tr>\n",
       "    <tr>\n",
       "      <th>0.499888</th>\n",
       "      <td>-0.6858586</td>\n",
       "      <td>-1.404285E-5</td>\n",
       "    </tr>\n",
       "    <tr>\n",
       "      <th>0.999888</th>\n",
       "      <td>-0.6717172</td>\n",
       "      <td>-1.379252E-5</td>\n",
       "    </tr>\n",
       "    <tr>\n",
       "      <th>1.499888</th>\n",
       "      <td>-0.6575758</td>\n",
       "      <td>-1.322031E-5</td>\n",
       "    </tr>\n",
       "    <tr>\n",
       "      <th>1.999888</th>\n",
       "      <td>-0.6434343</td>\n",
       "      <td>-1.263618E-5</td>\n",
       "    </tr>\n",
       "  </tbody>\n",
       "</table>\n",
       "</div>"
      ],
      "text/plain": [
       "          Source Value       Reading\n",
       "Timestamp                           \n",
       "0.0               -0.7  -1.574755E-5\n",
       "0.499888    -0.6858586  -1.404285E-5\n",
       "0.999888    -0.6717172  -1.379252E-5\n",
       "1.499888    -0.6575758  -1.322031E-5\n",
       "1.999888    -0.6434343  -1.263618E-5"
      ]
     },
     "execution_count": 29,
     "metadata": {},
     "output_type": "execute_result"
    }
   ],
   "source": [
    "# Debut du document\n",
    "dataframe.head()"
   ]
  },
  {
   "cell_type": "code",
   "execution_count": 30,
   "id": "f2e4683d",
   "metadata": {},
   "outputs": [
    {
     "name": "stdout",
     "output_type": "stream",
     "text": [
      "DataFrame Info:\n",
      "<class 'pandas.core.frame.DataFrame'>\n",
      "Index: 100 entries, 0.0 to 9.999889\n",
      "Data columns (total 2 columns):\n",
      " #   Column        Non-Null Count  Dtype \n",
      "---  ------        --------------  ----- \n",
      " 0   Source Value  100 non-null    object\n",
      " 1   Reading       100 non-null    object\n",
      "dtypes: object(2)\n",
      "memory usage: 2.3+ KB\n"
     ]
    }
   ],
   "source": [
    "# info su r les donnees\n",
    "print(\"DataFrame Info:\")\n",
    "dataframe.info()"
   ]
  },
  {
   "cell_type": "code",
   "execution_count": 31,
   "id": "4072e287",
   "metadata": {},
   "outputs": [
    {
     "name": "stdout",
     "output_type": "stream",
     "text": [
      "<class 'pandas.core.frame.DataFrame'>\n",
      "Index: 100 entries, 0.0 to 9.999889\n",
      "Data columns (total 2 columns):\n",
      " #   Column        Non-Null Count  Dtype  \n",
      "---  ------        --------------  -----  \n",
      " 0   Source Value  100 non-null    float64\n",
      " 1   Reading       100 non-null    float64\n",
      "dtypes: float64(2)\n",
      "memory usage: 2.3+ KB\n"
     ]
    }
   ],
   "source": [
    "# Conversion des colonnes en float\n",
    "dataframe['Source Value'] = dataframe['Source Value'].str.replace(',', '.').astype(float)\n",
    "dataframe['Reading'] = dataframe['Reading'].str.replace(',', '.').astype(float)\n",
    "dataframe.info()"
   ]
  },
  {
   "cell_type": "code",
   "execution_count": 32,
   "id": "af4d0d3b",
   "metadata": {},
   "outputs": [
    {
     "name": "stdout",
     "output_type": "stream",
     "text": [
      "Debut: 0.0\n",
      "Fin: 9.999889\n"
     ]
    }
   ],
   "source": [
    "# Regardond levolution du temps\n",
    "print(f\"Debut: {dataframe.index.min()}\")\n",
    "print(f\"Fin: {dataframe.index.max()}\")"
   ]
  },
  {
   "cell_type": "code",
   "execution_count": 33,
   "id": "385fab5f",
   "metadata": {},
   "outputs": [
    {
     "data": {
      "text/html": [
       "<div>\n",
       "<style scoped>\n",
       "    .dataframe tbody tr th:only-of-type {\n",
       "        vertical-align: middle;\n",
       "    }\n",
       "\n",
       "    .dataframe tbody tr th {\n",
       "        vertical-align: top;\n",
       "    }\n",
       "\n",
       "    .dataframe thead th {\n",
       "        text-align: right;\n",
       "    }\n",
       "</style>\n",
       "<table border=\"1\" class=\"dataframe\">\n",
       "  <thead>\n",
       "    <tr style=\"text-align: right;\">\n",
       "      <th></th>\n",
       "      <th>Source Value</th>\n",
       "      <th>Reading</th>\n",
       "    </tr>\n",
       "    <tr>\n",
       "      <th>Timestamp</th>\n",
       "      <th></th>\n",
       "      <th></th>\n",
       "    </tr>\n",
       "  </thead>\n",
       "  <tbody>\n",
       "    <tr>\n",
       "      <th>0.0</th>\n",
       "      <td>-0.700000</td>\n",
       "      <td>-0.000016</td>\n",
       "    </tr>\n",
       "    <tr>\n",
       "      <th>0.499888</th>\n",
       "      <td>-0.685859</td>\n",
       "      <td>-0.000014</td>\n",
       "    </tr>\n",
       "    <tr>\n",
       "      <th>0.999888</th>\n",
       "      <td>-0.671717</td>\n",
       "      <td>-0.000014</td>\n",
       "    </tr>\n",
       "    <tr>\n",
       "      <th>1.499888</th>\n",
       "      <td>-0.657576</td>\n",
       "      <td>-0.000013</td>\n",
       "    </tr>\n",
       "    <tr>\n",
       "      <th>1.999888</th>\n",
       "      <td>-0.643434</td>\n",
       "      <td>-0.000013</td>\n",
       "    </tr>\n",
       "  </tbody>\n",
       "</table>\n",
       "</div>"
      ],
      "text/plain": [
       "           Source Value   Reading\n",
       "Timestamp                        \n",
       "0.0           -0.700000 -0.000016\n",
       "0.499888      -0.685859 -0.000014\n",
       "0.999888      -0.671717 -0.000014\n",
       "1.499888      -0.657576 -0.000013\n",
       "1.999888      -0.643434 -0.000013"
      ]
     },
     "execution_count": 33,
     "metadata": {},
     "output_type": "execute_result"
    }
   ],
   "source": [
    "dataframe.head()"
   ]
  },
  {
   "cell_type": "code",
   "execution_count": 34,
   "id": "c509baea",
   "metadata": {},
   "outputs": [
    {
     "data": {
      "image/png": "[encoded data removed]",
      "text/plain": [
       "<Figure size 1200x600 with 1 Axes>"
      ]
     },
     "metadata": {},
     "output_type": "display_data"
    }
   ],
   "source": [
    "import matplotlib.pyplot as plt\n",
    "\n",
    "# Create figure and axis with specific size\n",
    "fig, ax = plt.subplots(figsize=(12, 6))\n",
    "\n",
    "ax.plot(dataframe['Source Value'], dataframe['Reading'], 'r-', label='Reading', alpha=0.7)\n",
    "\n",
    "# Customize the plot\n",
    "ax.set_title('Evolution of Reading over Source Value')\n",
    "ax.set_xlabel('Source Value')\n",
    "ax.set_ylabel('Reading')\n",
    "ax.grid(True, linestyle='--', alpha=0.6)\n",
    "\n",
    "# Rotate x-axis labels for better readability\n",
    "plt.xticks(rotation=45)\n",
    "\n",
    "# Add legend\n",
    "ax.legend()\n",
    "\n",
    "# Adjust layout to prevent label cutoff\n",
    "plt.tight_layout()\n",
    "\n",
    "# Show the plot\n",
    "plt.show()"
   ]
  }
 ],
 "metadata": {
  "kernelspec": {
   "display_name": "python-advance-env",
   "language": "python",
   "name": "python3"
  },
  "language_info": {
   "codemirror_mode": {
    "name": "ipython",
    "version": 3
   },
   "file_extension": ".py",
   "mimetype": "text/x-python",
   "name": "python",
   "nbconvert_exporter": "python",
   "pygments_lexer": "ipython3",
   "version": "3.10.18"
  }
 },
 "nbformat": 4,
 "nbformat_minor": 5
}
