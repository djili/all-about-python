{
 "cells": [
  {
   "cell_type": "code",
   "execution_count": 1,
   "id": "161a6ac2",
   "metadata": {},
   "outputs": [],
   "source": [
    "# Creation d'une fonction simple \n",
    "def addition (a, b):\n",
    "    return a+b\n",
    "\n",
    "def addition_tableau(tab):\n",
    "    result = 0\n",
    "    for t in tab:\n",
    "        result += t\n",
    "    return result    "
   ]
  },
  {
   "cell_type": "code",
   "execution_count": 2,
   "id": "3cb8734b",
   "metadata": {},
   "outputs": [
    {
     "name": "stdout",
     "output_type": "stream",
     "text": [
      "Addition de deux nombre 4\n",
      "Addition des elements d'un tableau 89.4\n"
     ]
    }
   ],
   "source": [
    "# Appel a un fonction \n",
    "print(f\"Addition de deux nombre {addition(1,3)}\")\n",
    "print(f\"Addition des elements d'un tableau {addition_tableau([1,6, 6, 9, 44, 23.4])}\")"
   ]
  },
  {
   "cell_type": "code",
   "execution_count": 3,
   "id": "ba64bb25",
   "metadata": {},
   "outputs": [
    {
     "name": "stdout",
     "output_type": "stream",
     "text": [
      "<function <lambda> at 0x00000247B8D0F6D0>\n"
     ]
    }
   ],
   "source": [
    "# fonction particulaire lambda\n",
    "\n",
    "print(lambda a : a*a)"
   ]
  },
  {
   "cell_type": "code",
   "execution_count": 4,
   "id": "2240872f",
   "metadata": {},
   "outputs": [
    {
     "name": "stdout",
     "output_type": "stream",
     "text": [
      "8\n"
     ]
    }
   ],
   "source": [
    "# Une fonction lambda qui additionne deux nombre \n",
    "add_nombre = lambda x, y: x + y\n",
    "print(add_nombre(5, 3))  "
   ]
  },
  {
   "cell_type": "code",
   "execution_count": 5,
   "id": "4fdd8049",
   "metadata": {},
   "outputs": [
    {
     "name": "stdout",
     "output_type": "stream",
     "text": [
      "[1, 2, 3, 4, 5, 6]\n",
      "[2, 4, 6]\n"
     ]
    }
   ],
   "source": [
    "# Usage de lambda pour filtrer une liste en fonction d'un critere \n",
    "nombre = [1, 2, 3, 4, 5, 6]\n",
    "nombre_paire = list(filter(lambda x: x % 2 == 0, nombre))\n",
    "print(nombre)\n",
    "print(nombre_paire)"
   ]
  },
  {
   "cell_type": "code",
   "execution_count": 6,
   "id": "eae96ae3",
   "metadata": {},
   "outputs": [],
   "source": [
    "# Les fonctions peuvent egalement renvoyer plusieurs elements\n",
    "def division_avec_reste(a, b):\n",
    "    return a/b, a%b"
   ]
  },
  {
   "cell_type": "code",
   "execution_count": 7,
   "id": "1ad7265c",
   "metadata": {},
   "outputs": [
    {
     "data": {
      "text/plain": [
       "(3.3333333333333335, 1)"
      ]
     },
     "execution_count": 7,
     "metadata": {},
     "output_type": "execute_result"
    }
   ],
   "source": [
    "# Appel de la fonction \n",
    "division_avec_reste(10, 3)"
   ]
  }
 ],
 "metadata": {
  "kernelspec": {
   "display_name": "python-advance-env",
   "language": "python",
   "name": "python3"
  },
  "language_info": {
   "codemirror_mode": {
    "name": "ipython",
    "version": 3
   },
   "file_extension": ".py",
   "mimetype": "text/x-python",
   "name": "python",
   "nbconvert_exporter": "python",
   "pygments_lexer": "ipython3",
   "version": "3.10.18"
  }
 },
 "nbformat": 4,
 "nbformat_minor": 5
}
