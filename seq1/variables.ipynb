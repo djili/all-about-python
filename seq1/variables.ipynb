{
 "cells": [
  {
   "cell_type": "markdown",
   "id": "fad3fc1b",
   "metadata": {},
   "source": [
    "## Premier code"
   ]
  },
  {
   "cell_type": "code",
   "execution_count": 1,
   "id": "a183d8d5",
   "metadata": {},
   "outputs": [
    {
     "name": "stdout",
     "output_type": "stream",
     "text": [
      "hello\n"
     ]
    }
   ],
   "source": [
    "print(\"hello\")"
   ]
  },
  {
   "cell_type": "markdown",
   "id": "a07baf96",
   "metadata": {},
   "source": [
    "## Opérations Arithmétiques\n",
    "1. Addition (+): Permet d'ajouter deux nombres ensemble.\n",
    "2. Soustraction (-): Permet de soustraire un nombre d'un autre.\n",
    "3. Multiplication ():*: Permet de multiplier deux nombres.\n",
    "4. Division (/): Permet de diviser un nombre par un autre. Renvoie un flottant.\n",
    "5. Division entière (//): Renvoie la partie entière de la division.\n",
    "6. Modulo (%): Renvoie le reste de la division.\n",
    "7. Exposant () :** Élève un nombre à la puissance d'un autre. "
   ]
  },
  {
   "cell_type": "markdown",
   "id": "e96085cf",
   "metadata": {},
   "source": [
    "## Opérations de Comparaison\n",
    "1. Égalité (==): Vérifie si deux valeurs sont égales.\n",
    "2. Différence (!=): Vérifie si deux valeurs sont différentes.\n",
    "3. Supérieur à (>): Vérifie si une valeur est supérieure à une autre.\n",
    "4. Inférieur à (<): Vérifie si une valeur est inférieure à une autre.\n",
    "5. Supérieur ou égal à (>=): Vérifie si une valeur est supérieure ou égale à une autre.\n",
    "6. Inférieur ou égal à (<=): Vérifie si une valeur est inférieure ou égale à une autre. "
   ]
  },
  {
   "cell_type": "markdown",
   "id": "9c55e4c2",
   "metadata": {},
   "source": [
    "## Opérations Logiques\n",
    "1. AND (and): Renvoie True si les deux opérandes sont True.\n",
    "2. OR (or): Renvoie True si au moins une des opérandes est True.\n",
    "3. NOT (not): Inverse la valeur booléenne d'une opérande. "
   ]
  },
  {
   "cell_type": "markdown",
   "id": "b578d967",
   "metadata": {},
   "source": [
    "## Opérations d'Affectation\n",
    "1. Affectation (=): Attribue une valeur à une variable.\n",
    "2. Affectation avec addition (+=): Ajoute une valeur à la variable existante et réaffecte le résultat.\n",
    "3. Affectation avec soustraction (-=): Soustrait une valeur à la variable existante et réaffecte le résultat.\n",
    "4. Affectation avec multiplication (=): Multiplie la variable existante par une valeur et réaffecte le résultat.\n",
    "5. Affectation avec division (/=): Divise la variable existante par une valeur et réaffecte le résultat. "
   ]
  },
  {
   "cell_type": "markdown",
   "id": "c7d15d2b",
   "metadata": {},
   "source": [
    "## Autres Opérations\n",
    "1. Concaténation de chaînes (+): Joindre deux chaînes de caractères.\n",
    "2. Appartenance (in, not in): Vérifie si un élément est présent ou non dans une séquence (chaîne, liste, etc.).\n",
    "3. Fonctions intégrées: Il existe des fonctions intégrées pour manipuler les variables, comme len() pour obtenir la longueur d'une chaîne ou type() pour connaître le type de variable. "
   ]
  },
  {
   "cell_type": "markdown",
   "id": "f946e21e",
   "metadata": {},
   "source": [
    "# Nom de varibles reserve\n",
    "\n",
    "and as assert break class continue def del elif else except False finally for from global if import in is lambda None nonlocal not or pass raise return True try while with yield"
   ]
  },
  {
   "cell_type": "markdown",
   "id": "292e2283",
   "metadata": {},
   "source": [
    "## Les variables a type simple "
   ]
  },
  {
   "cell_type": "code",
   "execution_count": 2,
   "id": "6b2dfd32",
   "metadata": {},
   "outputs": [
    {
     "name": "stdout",
     "output_type": "stream",
     "text": [
      "12\n"
     ]
    },
    {
     "data": {
      "text/plain": [
       "int"
      ]
     },
     "execution_count": 2,
     "metadata": {},
     "output_type": "execute_result"
    }
   ],
   "source": [
    "# Entier\n",
    "a = 12\n",
    "print(a)\n",
    "type(a)"
   ]
  },
  {
   "cell_type": "code",
   "execution_count": 3,
   "id": "ce706e91",
   "metadata": {},
   "outputs": [
    {
     "name": "stdout",
     "output_type": "stream",
     "text": [
      "bonjour je suis un entier\n"
     ]
    },
    {
     "data": {
      "text/plain": [
       "str"
      ]
     },
     "execution_count": 3,
     "metadata": {},
     "output_type": "execute_result"
    }
   ],
   "source": [
    "# Chaine de caractere\n",
    "b = \"bonjour je suis un entier\"\n",
    "print(b)\n",
    "type(b)"
   ]
  },
  {
   "cell_type": "code",
   "execution_count": 4,
   "id": "4050e1af",
   "metadata": {},
   "outputs": [
    {
     "name": "stdout",
     "output_type": "stream",
     "text": [
      "True\n"
     ]
    },
    {
     "data": {
      "text/plain": [
       "bool"
      ]
     },
     "execution_count": 4,
     "metadata": {},
     "output_type": "execute_result"
    }
   ],
   "source": [
    "# Booleen on y assigne la valeur True ou False \n",
    "c = True\n",
    "print(c)\n",
    "type(c)"
   ]
  },
  {
   "cell_type": "code",
   "execution_count": 5,
   "id": "f29bcc5c",
   "metadata": {},
   "outputs": [
    {
     "name": "stdout",
     "output_type": "stream",
     "text": [
      "12.9\n"
     ]
    },
    {
     "data": {
      "text/plain": [
       "float"
      ]
     },
     "execution_count": 5,
     "metadata": {},
     "output_type": "execute_result"
    }
   ],
   "source": [
    "# Float\n",
    "d = 12.9\n",
    "print(d)\n",
    "type(d)"
   ]
  },
  {
   "cell_type": "markdown",
   "id": "a984af02",
   "metadata": {},
   "source": [
    "## Variable de type container "
   ]
  },
  {
   "cell_type": "markdown",
   "id": "8da4962e",
   "metadata": {},
   "source": [
    "### Tableau"
   ]
  },
  {
   "cell_type": "code",
   "execution_count": 6,
   "id": "8d8434bf",
   "metadata": {},
   "outputs": [],
   "source": [
    "# Creation\n",
    "x = ['lundi', 2, 23.5, \"jeudi\", \"vendredi\", \"samedi\"]\n",
    "y = [\"Dimanche\"]"
   ]
  },
  {
   "cell_type": "code",
   "execution_count": 7,
   "id": "74917bc8",
   "metadata": {},
   "outputs": [
    {
     "name": "stdout",
     "output_type": "stream",
     "text": [
      "['lundi', 2, 23.5, 'jeudi', 'vendredi', 'samedi']\n"
     ]
    }
   ],
   "source": [
    "print(x)"
   ]
  },
  {
   "cell_type": "code",
   "execution_count": null,
   "id": "71e6c8c1",
   "metadata": {},
   "outputs": [
    {
     "name": "stdout",
     "output_type": "stream",
     "text": [
      "['lundi', 2, 23.5, 'jeudi', 'vendredi', 'samedi']\n",
      "jeudi\n",
      "[2, 23.5, 'jeudi']\n",
      "[2, 23.5, 'jeudi', 'vendredi', 'samedi']\n",
      "['vendredi', 'samedi']\n"
     ]
    }
   ],
   "source": [
    "# Selection\n",
    "element_position_quatre = x[ 3] # l'element a la position 4\n",
    "sous_tableau = x[1:4]  # sous_tableau sera [2, 23.5, 'jeudi']\n",
    "tous_sauf_premier = x[1:] # tous les elements sauf le premier\n",
    "les_deux_derniers = x[-2:] # les deux derniers elements\n",
    "print(x)\n",
    "print(element_position_quatre)\n",
    "print(sous_tableau)\n",
    "print(tous_sauf_premier)\n",
    "print(les_deux_derniers)"
   ]
  },
  {
   "cell_type": "code",
   "execution_count": 9,
   "id": "673b8e60",
   "metadata": {},
   "outputs": [
    {
     "name": "stdout",
     "output_type": "stream",
     "text": [
      "['lundi', 'Mardi', 25, 23.5, 'jeudi', 'vendredi', 'samedi', 'Dimanche', 1, 2]\n"
     ]
    }
   ],
   "source": [
    "# Modification\n",
    "x[1] = \"Mardi\"  # Le deuxieme élément devient Mardi\n",
    "x.append(\"Dimanche\")  # Ajoute Dimanche à la fin\n",
    "x.insert(2, 25) # Insère 25 à l'indice \n",
    "x.extend([1, 2])\n",
    "print(x)"
   ]
  },
  {
   "cell_type": "code",
   "execution_count": 10,
   "id": "c25dd28d",
   "metadata": {},
   "outputs": [
    {
     "name": "stdout",
     "output_type": "stream",
     "text": [
      "['lundi', 'Mardi', 'jeudi', 'vendredi', 'samedi', 'Dimanche']\n",
      "2\n",
      "1\n"
     ]
    }
   ],
   "source": [
    "# Suppression\n",
    "del x[2] # Supprime l'élément à l'indice 2\n",
    "x.remove(23.5) # Supprime la première occurence de 23.5\n",
    "dernier_x = x.pop() # dernier_element prend la valeur du dernier élément, qui est supprimé\n",
    "x_a_indice_2 = x.pop(6) # Supprime et retourne l'element à l'indice 2\n",
    "print(x)\n",
    "print(dernier_x)\n",
    "print(x_a_indice_2)"
   ]
  },
  {
   "cell_type": "markdown",
   "id": "593540c2",
   "metadata": {},
   "source": [
    "### Tuple\n"
   ]
  },
  {
   "cell_type": "code",
   "execution_count": 11,
   "id": "9d7b8190",
   "metadata": {},
   "outputs": [
    {
     "name": "stdout",
     "output_type": "stream",
     "text": [
      "(False, 'un', 2, 3, 5, 6)\n",
      "(False, 'un', 2, 3, 5, 6, False, 'un', 2, 3, 5, 6, False, 'un', 2, 3, 5, 6)\n"
     ]
    }
   ],
   "source": [
    "# Tuple \n",
    "chiffres = (False, \"un\", 2, 3, 5, 6 )\n",
    "chiffres_triple = chiffres * 3\n",
    "print(chiffres)\n",
    "print(chiffres_triple)"
   ]
  },
  {
   "cell_type": "code",
   "execution_count": 12,
   "id": "e9a1e9ae",
   "metadata": {},
   "outputs": [
    {
     "name": "stdout",
     "output_type": "stream",
     "text": [
      "Le premier élément est : False\n",
      "La tranche des deux derniers éléments : (5, 6)\n"
     ]
    }
   ],
   "source": [
    "# Accès aux éléments\n",
    "print(f\"Le premier élément est : {chiffres[0]}\")  # Affiche False\n",
    "print(f\"La tranche des deux derniers éléments : {chiffres[4:]}\") # Affiche (5, 6)"
   ]
  },
  {
   "cell_type": "code",
   "execution_count": 13,
   "id": "383b71a2",
   "metadata": {},
   "outputs": [
    {
     "name": "stdout",
     "output_type": "stream",
     "text": [
      "Le nouveau tuple après concaténation : (False, 'un', 2, 3, 5, 6, 7, 8, 9)\n"
     ]
    }
   ],
   "source": [
    "# Concaténation\n",
    "nouveau_chiffres = chiffres + (7, 8, 9)\n",
    "print(f\"Le nouveau tuple après concaténation : {nouveau_chiffres}\") # Affiche (False, 'un', 2, 3, 5, 6, 7, 8, 9)\n"
   ]
  },
  {
   "cell_type": "code",
   "execution_count": 14,
   "id": "6962e38e",
   "metadata": {},
   "outputs": [
    {
     "name": "stdout",
     "output_type": "stream",
     "text": [
      "Le tuple contient-il l'élément 3 ? : True\n"
     ]
    }
   ],
   "source": [
    "# Vérification de présence\n",
    "print(f\"Le tuple contient-il l'élément 3 ? : {3 in nouveau_chiffres}\") # Affiche True"
   ]
  },
  {
   "cell_type": "code",
   "execution_count": 15,
   "metadata": {},
   "outputs": [
    {
     "name": "stdout",
     "output_type": "stream",
     "text": [
      "La longueur du tuple est : 9\n",
      "Le plus grand élément est : 9\n",
      "Le nombre d'occurrences de 2 est : 1\n"
     ]
    }
   ],
   "source": [
    "# Fonctions intégrées\n",
    "tuple_homogene = (1, 2, 3, 4, 5, 6, 7, 8, 9)\n",
    "print(f\"La longueur du tuple est : {len(tuple_homogene)}\") # Affiche 6\n",
    "print(f\"Le plus grand élément est : {max(tuple_homogene)}\") # Affiche 4\n",
    "print(f\"Le nombre d'occurrences de 2 est : {tuple_homogene.count(2)}\") # Affiche 3"
   ]
  },
  {
   "cell_type": "markdown",
   "id": "0515e898",
   "metadata": {},
   "source": [
    "### Dictionnaire\n"
   ]
  },
  {
   "cell_type": "code",
   "execution_count": 16,
   "id": "5c62dbd2",
   "metadata": {},
   "outputs": [
    {
     "data": {
      "text/plain": [
       "{'nom': 'Badji', 'Prenom': 'Mohamed', 'âge': 24, 'ville': 'Ziguinchor'}"
      ]
     },
     "execution_count": 16,
     "metadata": {},
     "output_type": "execute_result"
    }
   ],
   "source": [
    "# Creation\n",
    "etudiant_1 = {\"nom\": \"Badji\", \"Prenom\": \"Mohamed\", \"âge\": 24, \"ville\": \"Ziguinchor\"}\n",
    "etudiant_1"
   ]
  },
  {
   "cell_type": "code",
   "execution_count": 17,
   "id": "38042293",
   "metadata": {},
   "outputs": [
    {
     "data": {
      "text/plain": [
       "'Badji'"
      ]
     },
     "execution_count": 17,
     "metadata": {},
     "output_type": "execute_result"
    }
   ],
   "source": [
    "# Recuperer valeur\n",
    "etudiant_1.get(\"nom\")"
   ]
  },
  {
   "cell_type": "code",
   "execution_count": 18,
   "id": "b1a8c3b1",
   "metadata": {},
   "outputs": [
    {
     "data": {
      "text/plain": [
       "{'nom': 'Badji',\n",
       " 'Prenom': 'Mohamed',\n",
       " 'âge': 31,\n",
       " 'ville': 'Ziguinchor',\n",
       " 'profession': 'Etudiant'}"
      ]
     },
     "execution_count": 18,
     "metadata": {},
     "output_type": "execute_result"
    }
   ],
   "source": [
    "etudiant_1[\"profession\"] = \"Etudiant\"  # Ajoute ou modifie la clé \"profession\"\n",
    "etudiant_1[\"âge\"] = 31  # Modifie la valeur de la clé \"âge\"\n",
    "etudiant_1"
   ]
  },
  {
   "cell_type": "code",
   "execution_count": 19,
   "id": "8c8d59d1",
   "metadata": {},
   "outputs": [
    {
     "data": {
      "text/plain": [
       "{'nom': 'Badji',\n",
       " 'Prenom': 'Mohamed',\n",
       " 'âge': 31,\n",
       " 'ville': 'Ziguinchor',\n",
       " 'profession': 'Etudiant',\n",
       " 'pays': 'Senegal',\n",
       " 'code_postal': 11500}"
      ]
     },
     "execution_count": 19,
     "metadata": {},
     "output_type": "execute_result"
    }
   ],
   "source": [
    "nouvelle_etudiant = {\"pays\": \"Senegal\", \"code_postal\": 11500}\n",
    "etudiant_1.update(nouvelle_etudiant)\n",
    "etudiant_1"
   ]
  },
  {
   "cell_type": "code",
   "execution_count": 20,
   "id": "b0033f88",
   "metadata": {},
   "outputs": [
    {
     "name": "stdout",
     "output_type": "stream",
     "text": [
      "{'nom': 'Badji', 'profession': 'Etudiant', 'pays': 'Senegal', 'code_postal': 11500}\n"
     ]
    }
   ],
   "source": [
    "# Suppression\n",
    "age = etudiant_1.pop(\"âge\") # Supprime \"âge\" et renvoie 31\n",
    "ville = etudiant_1.pop(\"ville\", \"Non définie\") # Supprime \"ville\" et renvoie \"Non définie\"\n",
    "del etudiant_1[\"Prenom\"]\n",
    "print(etudiant_1)"
   ]
  },
  {
   "cell_type": "code",
   "execution_count": 21,
   "id": "a7ef7ea0",
   "metadata": {},
   "outputs": [
    {
     "name": "stdout",
     "output_type": "stream",
     "text": [
      "Nombre d'elements du disctionaire 4\n",
      "Les cles dict_keys(['nom', 'profession', 'pays', 'code_postal'])\n",
      "Les valeurs dict_values(['Badji', 'Etudiant', 'Senegal', 11500])\n",
      "Les elements dict_items([('nom', 'Badji'), ('profession', 'Etudiant'), ('pays', 'Senegal'), ('code_postal', 11500)])\n",
      "La copy du tableau {'nom': 'Badji', 'profession': 'Etudiant', 'pays': 'Senegal', 'code_postal': 11500}\n"
     ]
    }
   ],
   "source": [
    "# Autres operation\n",
    "nombre_elements = len(etudiant_1)\n",
    "cles = etudiant_1.keys() # Renvoie une vue des clés\n",
    "valeurs = etudiant_1.values() # Renvoie une vue des valeurs\n",
    "items = etudiant_1.items() # Renvoie une vue des paires clé-valeur\n",
    "copie_dictionnaire = etudiant_1.copy()\n",
    "print(f\"Nombre d'elements du disctionaire {nombre_elements}\")\n",
    "print(f\"Les cles {cles}\")\n",
    "print(f\"Les valeurs {valeurs}\")\n",
    "print(f\"Les elements {items}\")\n",
    "print(f\"La copy du tableau {copie_dictionnaire}\")"
   ]
  },
  {
   "cell_type": "code",
   "execution_count": 22,
   "id": "9666206b",
   "metadata": {},
   "outputs": [
    {
     "name": "stdout",
     "output_type": "stream",
     "text": [
      "{}\n"
     ]
    }
   ],
   "source": [
    "etudiant_1.clear() # Le dictionnaire est maintenant vide\n",
    "print(etudiant_1)"
   ]
  }
 ],
 "metadata": {
  "kernelspec": {
   "display_name": "base",
   "language": "python",
   "name": "python3"
  },
  "language_info": {
   "codemirror_mode": {
    "name": "ipython",
    "version": 3
   },
   "file_extension": ".py",
   "mimetype": "text/x-python",
   "name": "python",
   "nbconvert_exporter": "python",
   "pygments_lexer": "ipython3",
   "version": "3.9.19"
  }
 },
 "nbformat": 4,
 "nbformat_minor": 5
}
