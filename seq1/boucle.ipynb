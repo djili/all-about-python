{
 "cells": [
  {
   "cell_type": "markdown",
   "id": "f6c630c2",
   "metadata": {},
   "source": [
    "# Boucle "
   ]
  },
  {
   "cell_type": "code",
   "execution_count": 8,
   "id": "ef37e418",
   "metadata": {},
   "outputs": [
    {
     "name": "stdout",
     "output_type": "stream",
     "text": [
      "Lundi\n",
      "Mardi\n",
      "Mercredi\n",
      "Jeudi\n",
      "vendredi\n",
      "Samedi\n",
      "Dmanche\n"
     ]
    }
   ],
   "source": [
    "# Boucle for sur un tableau\n",
    "tab = [\"Lundi\", \"Mardi\", \"Mercredi\",\"Jeudi\",\"vendredi\",\"Samedi\",\"Dmanche\"]\n",
    "for i in tab:\n",
    "    print(i)"
   ]
  },
  {
   "cell_type": "code",
   "execution_count": null,
   "id": "57fbe426",
   "metadata": {},
   "outputs": [
    {
     "name": "stdout",
     "output_type": "stream",
     "text": [
      "Lundi\n",
      "Mardi\n",
      "Mercredi\n",
      "Jeudi\n",
      "vendredi\n",
      "Samedi\n",
      "Dmanche\n"
     ]
    }
   ],
   "source": [
    "# Boucle For \n",
    "i = 0\n",
    "while (i < len(tab)):\n",
    "    print(tab[i])\n",
    "    i = i+1"
   ]
  }
 ],
 "metadata": {
  "kernelspec": {
   "display_name": "Python 3",
   "language": "python",
   "name": "python3"
  },
  "language_info": {
   "codemirror_mode": {
    "name": "ipython",
    "version": 3
   },
   "file_extension": ".py",
   "mimetype": "text/x-python",
   "name": "python",
   "nbconvert_exporter": "python",
   "pygments_lexer": "ipython3",
   "version": "3.13.5"
  }
 },
 "nbformat": 4,
 "nbformat_minor": 5
}
