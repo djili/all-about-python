{
 "cells": [
  {
   "cell_type": "markdown",
   "id": "3dffe590",
   "metadata": {},
   "source": [
    "# Condition"
   ]
  },
  {
   "cell_type": "markdown",
   "id": "fb1feef8",
   "metadata": {},
   "source": [
    "Les operateur de comparaison :\n",
    "1. ==\tÉgal à\n",
    "2. != (ou <>)\tDifférent de\n",
    "3. \">\"\tSupérieur à\n",
    "4. \">=\"\tSupérieur ou égal à\n",
    "6. <\tInférieur à\n",
    "7. <=\tInférieur ou égal à\n",
    "8. in\tDans\n",
    "9. not in\tExclu"
   ]
  },
  {
   "cell_type": "code",
   "execution_count": 1,
   "id": "42c63e3d",
   "metadata": {},
   "outputs": [
    {
     "name": "stdout",
     "output_type": "stream",
     "text": [
      "La condition est vrai 55 est > 10 \n"
     ]
    }
   ],
   "source": [
    "# La condtion if\n",
    "a = 55\n",
    "b = 10 \n",
    "c = 2\n",
    "if (a > b ):\n",
    "    print(\"La condition est vrai 55 est > 10 \")"
   ]
  },
  {
   "cell_type": "code",
   "execution_count": 2,
   "id": "f0e16f48",
   "metadata": {},
   "outputs": [
    {
     "name": "stdout",
     "output_type": "stream",
     "text": [
      "La condition n'est pas respecter (2 < 55)\n"
     ]
    }
   ],
   "source": [
    "# La condition if/else\n",
    "if (c > b ):\n",
    "    print(\"La condition est vrai 2 est > 55 \")\n",
    "else:\n",
    "    print(\"La condition n'est pas respecter (2 < 55)\")"
   ]
  },
  {
   "cell_type": "code",
   "execution_count": 3,
   "id": "f30367fa",
   "metadata": {},
   "outputs": [
    {
     "name": "stdout",
     "output_type": "stream",
     "text": [
      "La condition est vrai 55 est > 10 \n"
     ]
    }
   ],
   "source": [
    "# La condition id/elif/else\n",
    "if(c > b):\n",
    "    print(\"\")\n",
    "elif(b > a):\n",
    "    print(\"\")\n",
    "elif(a > b):\n",
    "    print(\"La condition est vrai 55 est > 10 \")     "
   ]
  },
  {
   "cell_type": "code",
   "execution_count": null,
   "id": "de0029ef",
   "metadata": {},
   "outputs": [
    {
     "name": "stdout",
     "output_type": "stream",
     "text": [
      "Jeudi est dans la semaine\n"
     ]
    }
   ],
   "source": [
    "# Switch A partir de python 3.10\n",
    "jour = \"Jeudi\"\n",
    "match jour:\n",
    "    case \"Samedi\" | \"Dimanche\":\n",
    "        print(f\"{jour} est dans le week-end.\")  # Match weekends\n",
    "    case \"Lundi\" | \"Mardi\" | \"Mercredi\" | \"Jeudi\" | \"Vendredi\":\n",
    "        print(f\"{jour} est dans la semaine\")  # Match weekdays\n",
    "    case _:\n",
    "        print(\"Le jour n'est pas valide\")  # Default case"
   ]
  }
 ],
 "metadata": {
  "kernelspec": {
   "display_name": "Python 3",
   "language": "python",
   "name": "python3"
  },
  "language_info": {
   "codemirror_mode": {
    "name": "ipython",
    "version": 3
   },
   "file_extension": ".py",
   "mimetype": "text/x-python",
   "name": "python",
   "nbconvert_exporter": "python",
   "pygments_lexer": "ipython3",
   "version": "3.13.5"
  }
 },
 "nbformat": 4,
 "nbformat_minor": 5
}
