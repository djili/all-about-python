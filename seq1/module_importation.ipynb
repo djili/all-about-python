{
 "cells": [
  {
   "cell_type": "markdown",
   "id": "7bf5aa0b",
   "metadata": {},
   "source": [
    "## Importation"
   ]
  },
  {
   "cell_type": "code",
   "execution_count": null,
   "id": "62f7dc79",
   "metadata": {},
   "outputs": [],
   "source": [
    "# Importation simple d'une fonction \n",
    "from math import sqrt\n",
    "x= 10\n",
    "print(f\"La racine carre de {x} est : {sqrt(x)}\") "
   ]
  },
  {
   "cell_type": "code",
   "execution_count": 12,
   "id": "19372bc6",
   "metadata": {},
   "outputs": [
    {
     "name": "stdout",
     "output_type": "stream",
     "text": [
      "1.0\n"
     ]
    }
   ],
   "source": [
    "# Importation avec alias \n",
    "import math as m\n",
    "print(m.sin(m.pi/2))\n",
    "   "
   ]
  }
 ],
 "metadata": {
  "kernelspec": {
   "display_name": "Python 3",
   "language": "python",
   "name": "python3"
  },
  "language_info": {
   "codemirror_mode": {
    "name": "ipython",
    "version": 3
   },
   "file_extension": ".py",
   "mimetype": "text/x-python",
   "name": "python",
   "nbconvert_exporter": "python",
   "pygments_lexer": "ipython3",
   "version": "3.13.5"
  }
 },
 "nbformat": 4,
 "nbformat_minor": 5
}
