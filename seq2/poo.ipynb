{
 "cells": [
  {
   "cell_type": "markdown",
   "id": "1daa38b7",
   "metadata": {},
   "source": [
    "# POO (Programmation oriente object)"
   ]
  },
  {
   "cell_type": "code",
   "execution_count": 1,
   "id": "d20416a4",
   "metadata": {},
   "outputs": [],
   "source": [
    "# Définition d'une classe\n",
    "class Personne:\n",
    "    def __init__(self, nom, age):\n",
    "        self.nom = nom        # attribut\n",
    "        self.age = age        # attribut\n",
    "\n",
    "    def saluer(self):         # méthode\n",
    "        print(f\"Bonjour, je m'appelle {self.nom} et j’ai {self.age} ans.\")\n"
   ]
  },
  {
   "cell_type": "code",
   "execution_count": 2,
   "id": "7b599557",
   "metadata": {},
   "outputs": [],
   "source": [
    "class Voiture:\n",
    "    def __init__(self, marque, vitesse):\n",
    "        self.marque = marque\n",
    "        self.vitesse = vitesse\n",
    "\n",
    "    def klaxonner(self):           # méthode\n",
    "        print(\"Tuut tuut !\")\n",
    "\n",
    "    def afficher_infos(self):      # méthode\n",
    "        print(f\"Marque : {self.marque}, Vitesse : \t{self.vitesse} km/h\")\n"
   ]
  },
  {
   "cell_type": "code",
   "execution_count": 3,
   "id": "0aafd6ab",
   "metadata": {},
   "outputs": [
    {
     "name": "stdout",
     "output_type": "stream",
     "text": [
      "1000\n"
     ]
    }
   ],
   "source": [
    "class Compte:\n",
    "    def __init__(self, solde):\n",
    "        self.__solde = solde  # attribut privé (double underscore)\n",
    "\n",
    "    def get_solde(self):\n",
    "        return self.__solde\n",
    "\n",
    "    def set_solde(self, montant):\n",
    "        if montant >= 0:\n",
    "            self.__solde = montant\n",
    "        else:\n",
    "            print(\"Erreur : solde négatif interdit\")\n",
    "\n",
    "compte1 = Compte(1000)\n",
    "print(compte1.get_solde())    # OK\n"
   ]
  },
  {
   "cell_type": "code",
   "execution_count": 4,
   "id": "6b2ffc47",
   "metadata": {},
   "outputs": [
    {
     "name": "stdout",
     "output_type": "stream",
     "text": [
      "Ouaf !\n",
      "Miaou !\n"
     ]
    }
   ],
   "source": [
    "class Animal:                       # classe parent\n",
    "    def parler(self):\n",
    "        print(\"Je fais un bruit.\")\n",
    "\n",
    "class Chien(Animal):               # classe enfant\n",
    "    def parler(self):\n",
    "        print(\"Ouaf !\")\n",
    "\n",
    "class Chat(Animal):                # autre classe enfant\n",
    "    def parler(self):\n",
    "        print(\"Miaou !\")\n",
    "\n",
    "c = Chien()\n",
    "c.parler()   # → Ouaf !\n",
    "\n",
    "f = Chat()\n",
    "f.parler()   # → Miaou !"
   ]
  },
  {
   "cell_type": "code",
   "execution_count": 5,
   "id": "e9dbabaf",
   "metadata": {},
   "outputs": [],
   "source": [
    "class Employe(Personne):\n",
    "    def __init__(self, nom, salaire):\n",
    "        super().__init__(nom)\n",
    "        self.salaire = salaire\n"
   ]
  },
  {
   "cell_type": "code",
   "execution_count": 6,
   "id": "b19b0fe6",
   "metadata": {},
   "outputs": [
    {
     "name": "stdout",
     "output_type": "stream",
     "text": [
      "Ouaf !\n",
      "Miaou !\n"
     ]
    }
   ],
   "source": [
    "class Animal:\n",
    "    def parler(self):\n",
    "        print(\"Je suis un animal\")\n",
    "\n",
    "class Chien(Animal):\n",
    "    def parler(self):\n",
    "        print(\"Ouaf !\")\n",
    "\n",
    "class Chat(Animal):\n",
    "    def parler(self):\n",
    "        print(\"Miaou !\")\n",
    "\n",
    "animaux = [Chien(), Chat()]\n",
    "\n",
    "for a in animaux:\n",
    "    a.parler() \n"
   ]
  },
  {
   "cell_type": "code",
   "execution_count": 7,
   "id": "b351b9d3",
   "metadata": {},
   "outputs": [
    {
     "name": "stdout",
     "output_type": "stream",
     "text": [
      "Livre : Python, 200 pages\n",
      "350\n"
     ]
    }
   ],
   "source": [
    "class Livre:\n",
    "    def __init__(self, titre, pages):\n",
    "        self.titre = titre\n",
    "        self.pages = pages\n",
    "\n",
    "    def __str__(self):\n",
    "        return f\"Livre : {self.titre}, {self.pages} pages\"\n",
    "\n",
    "    def __add__(self, autre):\n",
    "        return self.pages + autre.pages\n",
    "\n",
    "livre1 = Livre(\"Python\", 200)\n",
    "livre2 = Livre(\"Django\", 150)\n",
    "\n",
    "print(livre1)             # → Livre : Python, 200 pages\n",
    "print(livre1 + livre2)    # → 350 (grâce à __add__)\n"
   ]
  }
 ],
 "metadata": {
  "kernelspec": {
   "display_name": "python-advance-env",
   "language": "python",
   "name": "python3"
  },
  "language_info": {
   "codemirror_mode": {
    "name": "ipython",
    "version": 3
   },
   "file_extension": ".py",
   "mimetype": "text/x-python",
   "name": "python",
   "nbconvert_exporter": "python",
   "pygments_lexer": "ipython3",
   "version": "3.10.18"
  }
 },
 "nbformat": 4,
 "nbformat_minor": 5
}
