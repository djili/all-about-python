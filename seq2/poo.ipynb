{
 "cells": [
  {
   "cell_type": "markdown",
   "id": "1daa38b7",
   "metadata": {},
   "source": [
    "# POO (Programmation oriente object)"
   ]
  },
  {
   "cell_type": "code",
   "execution_count": 17,
   "id": "d20416a4",
   "metadata": {},
   "outputs": [],
   "source": [
    "# creation dun classe \n",
    "class Rectangle:\n",
    "    \n",
    "    def __init__(self): #self designe l'object lui meme \n",
    "        print(\"Un point a ete creer \")\n",
    "        self.longueur = 0\n",
    "        self.largeur = 0 \n",
    "        \n",
    "    def surface(self):\n",
    "        return self.longueur * self.largeur\n",
    "    \n",
    "    def perimetre(self):\n",
    "        return (longueur + largeur) * 2 "
   ]
  },
  {
   "cell_type": "code",
   "execution_count": 18,
   "id": "7b599557",
   "metadata": {},
   "outputs": [
    {
     "name": "stdout",
     "output_type": "stream",
     "text": [
      "Un point a ete creer \n",
      "Un point a ete creer \n"
     ]
    }
   ],
   "source": [
    "# instantiation d'un object \n",
    "r1 = Rectangle()\n",
    "r2 = Rectangle()"
   ]
  },
  {
   "cell_type": "code",
   "execution_count": 19,
   "id": "0aafd6ab",
   "metadata": {},
   "outputs": [
    {
     "name": "stdout",
     "output_type": "stream",
     "text": [
      "0\n",
      "0\n"
     ]
    }
   ],
   "source": [
    "# Lectures des composantes d'un onject \n",
    "print(r1.longueur)\n",
    "print(r2.largeur)"
   ]
  },
  {
   "cell_type": "code",
   "execution_count": 20,
   "id": "e9dbabaf",
   "metadata": {},
   "outputs": [
    {
     "name": "stdout",
     "output_type": "stream",
     "text": [
      "20\n",
      "10\n"
     ]
    }
   ],
   "source": [
    "# Modification de la valeur des variables\n",
    "r1.longueur = 20\n",
    "r1.largeur = 10\n",
    "print(r1.longueur)\n",
    "print(r1.largeur)"
   ]
  },
  {
   "cell_type": "code",
   "execution_count": null,
   "id": "b19b0fe6",
   "metadata": {},
   "outputs": [
    {
     "ename": "NameError",
     "evalue": "name 'longueur' is not defined",
     "output_type": "error",
     "traceback": [
      "\u001b[1;31m---------------------------------------------------------------------------\u001b[0m",
      "\u001b[1;31mNameError\u001b[0m                                 Traceback (most recent call last)",
      "Cell \u001b[1;32mIn[22], line 2\u001b[0m\n\u001b[0;32m      1\u001b[0m \u001b[38;5;66;03m# Utilisons les fonction de l'object\u001b[39;00m\n\u001b[1;32m----> 2\u001b[0m \u001b[38;5;28mprint\u001b[39m(\u001b[38;5;124mf\u001b[39m\u001b[38;5;124m\"\u001b[39m\u001b[38;5;124mLe rectangle R1 de longueur \u001b[39m\u001b[38;5;132;01m{\u001b[39;00mr1\u001b[38;5;241m.\u001b[39mlongueur\u001b[38;5;132;01m}\u001b[39;00m\u001b[38;5;124m et de largeur \u001b[39m\u001b[38;5;132;01m{\u001b[39;00mr1\u001b[38;5;241m.\u001b[39mlargeur\u001b[38;5;132;01m}\u001b[39;00m\u001b[38;5;124m a pour perimetre\u001b[39m\u001b[38;5;132;01m{\u001b[39;00m\u001b[43mr1\u001b[49m\u001b[38;5;241;43m.\u001b[39;49m\u001b[43mperimetre\u001b[49m\u001b[43m(\u001b[49m\u001b[43m)\u001b[49m\u001b[38;5;132;01m}\u001b[39;00m\u001b[38;5;124m et surface \u001b[39m\u001b[38;5;132;01m{\u001b[39;00mr1\u001b[38;5;241m.\u001b[39mperimetre()\u001b[38;5;132;01m}\u001b[39;00m\u001b[38;5;124m\"\u001b[39m)\n",
      "Cell \u001b[1;32mIn[17], line 13\u001b[0m, in \u001b[0;36mRectangle.perimetre\u001b[1;34m(self)\u001b[0m\n\u001b[0;32m     12\u001b[0m \u001b[38;5;28;01mdef\u001b[39;00m\u001b[38;5;250m \u001b[39m\u001b[38;5;21mperimetre\u001b[39m(\u001b[38;5;28mself\u001b[39m):\n\u001b[1;32m---> 13\u001b[0m     \u001b[38;5;28;01mreturn\u001b[39;00m (\u001b[43mlongueur\u001b[49m \u001b[38;5;241m+\u001b[39m largeur) \u001b[38;5;241m*\u001b[39m \u001b[38;5;241m2\u001b[39m\n",
      "\u001b[1;31mNameError\u001b[0m: name 'longueur' is not defined"
     ]
    }
   ],
   "source": [
    "# Utilisons les fonction de l'object\n",
    "print(f\"Le rectangle R1 de longueur {r1.longueur()} et de largeur {r1.largeur()} a pour perimetre{r1.perimetre()} et surface {r1.perimetre()}\")"
   ]
  }
 ],
 "metadata": {
  "kernelspec": {
   "display_name": "python-advance-env",
   "language": "python",
   "name": "python3"
  },
  "language_info": {
   "codemirror_mode": {
    "name": "ipython",
    "version": 3
   },
   "file_extension": ".py",
   "mimetype": "text/x-python",
   "name": "python",
   "nbconvert_exporter": "python",
   "pygments_lexer": "ipython3",
   "version": "3.10.18"
  }
 },
 "nbformat": 4,
 "nbformat_minor": 5
}
